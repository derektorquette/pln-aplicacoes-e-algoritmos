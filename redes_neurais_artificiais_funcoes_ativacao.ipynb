{
  "nbformat": 4,
  "nbformat_minor": 0,
  "metadata": {
    "colab": {
      "provenance": [],
      "authorship_tag": "ABX9TyOexwgaHtQJOXTWAqMkU4ZZ",
      "include_colab_link": true
    },
    "kernelspec": {
      "name": "python3",
      "display_name": "Python 3"
    },
    "language_info": {
      "name": "python"
    }
  },
  "cells": [
    {
      "cell_type": "markdown",
      "metadata": {
        "id": "view-in-github",
        "colab_type": "text"
      },
      "source": [
        "<a href=\"https://colab.research.google.com/github/derektorquette/pln-com-deep-learning-ia-expert/blob/main/redes_neurais_artificiais_funcoes_ativacao.ipynb\" target=\"_parent\"><img src=\"https://colab.research.google.com/assets/colab-badge.svg\" alt=\"Open In Colab\"/></a>"
      ]
    },
    {
      "cell_type": "markdown",
      "source": [
        "#**Funções de Ativação**"
      ],
      "metadata": {
        "id": "M9LOpGjiN257"
      }
    },
    {
      "cell_type": "code",
      "execution_count": null,
      "metadata": {
        "id": "0bK3E7u_SRoV"
      },
      "outputs": [],
      "source": [
        "import numpy as np"
      ]
    },
    {
      "cell_type": "markdown",
      "source": [
        "## StepFunction - usada somente para problemas linearmente separáveis. Retorna 0 ou 1"
      ],
      "metadata": {
        "id": "8n9c51qjOGTz"
      }
    },
    {
      "cell_type": "code",
      "source": [
        "def stepFunction(soma):\n",
        "    if (soma >= 1):\n",
        "        return 1\n",
        "    return 0\n",
        "\n",
        "teste = stepFunction(-1)\n",
        "\n",
        "print(teste)"
      ],
      "metadata": {
        "colab": {
          "base_uri": "https://localhost:8080/"
        },
        "id": "WItnJu9IN2cN",
        "outputId": "909afee5-0065-4f25-9927-2223dfdd89b5"
      },
      "execution_count": null,
      "outputs": [
        {
          "output_type": "stream",
          "name": "stdout",
          "text": [
            "0\n"
          ]
        }
      ]
    },
    {
      "cell_type": "markdown",
      "source": [
        "## SigmoidFunction - problemas de classificação binária. Retorna valores entre 0 e 1, desta forma podemos assumir probabilidades."
      ],
      "metadata": {
        "id": "EoU3z_3XO3Ht"
      }
    },
    {
      "cell_type": "code",
      "source": [
        "def sigmoidFunction(soma):\n",
        "    return 1 / (1+ np.exp(-soma))\n",
        "\n",
        "teste = sigmoidFunction(-0.358)\n",
        "\n",
        "print(teste)"
      ],
      "metadata": {
        "colab": {
          "base_uri": "https://localhost:8080/"
        },
        "id": "XOlZkJ0tQZOM",
        "outputId": "ba2eb552-2de8-4e59-e165-aabca5abc58c"
      },
      "execution_count": null,
      "outputs": [
        {
          "output_type": "stream",
          "name": "stdout",
          "text": [
            "0.4114437956141708\n"
          ]
        }
      ]
    },
    {
      "cell_type": "markdown",
      "source": [
        "## TahnFunction - também utilizada para classificação, retorna valos entre -1 e 1."
      ],
      "metadata": {
        "id": "eL5w2chtQ608"
      }
    },
    {
      "cell_type": "code",
      "source": [
        "def tahnFunction(soma):\n",
        "    return (np.exp(soma) - np.exp(-soma)) / (np.exp(soma) + np.exp(-soma))\n",
        "\n",
        "teste = tahnFunction(-0.358)\n",
        "\n",
        "print(teste)"
      ],
      "metadata": {
        "colab": {
          "base_uri": "https://localhost:8080/"
        },
        "id": "I6K4CUR1RJti",
        "outputId": "78fb9da8-6d9c-479b-e874-827c926878d7"
      },
      "execution_count": null,
      "outputs": [
        {
          "output_type": "stream",
          "name": "stdout",
          "text": [
            "-0.3434511648102781\n"
          ]
        }
      ]
    },
    {
      "cell_type": "markdown",
      "source": [
        "## ReluFunction - muito usada em redes neurais convolucionais ou quando temos muitas camadas na rede. Atualmente muito utilizada."
      ],
      "metadata": {
        "id": "6xoal_ARRosr"
      }
    },
    {
      "cell_type": "code",
      "source": [
        "def reluFunction (soma):\n",
        "  if soma >= 0:\n",
        "    return soma\n",
        "  return 0\n",
        "\n",
        "teste = reluFunction(0.358)\n",
        "\n",
        "print(teste)"
      ],
      "metadata": {
        "colab": {
          "base_uri": "https://localhost:8080/"
        },
        "id": "SWGJmd4kSFOk",
        "outputId": "8227f5fc-c547-4b35-aa7f-916530093195"
      },
      "execution_count": null,
      "outputs": [
        {
          "output_type": "stream",
          "name": "stdout",
          "text": [
            "0.358\n"
          ]
        }
      ]
    },
    {
      "cell_type": "markdown",
      "source": [
        "## LinearFunction - não altera valor apenas o passa para frente."
      ],
      "metadata": {
        "id": "uGavrFncSaOR"
      }
    },
    {
      "cell_type": "code",
      "source": [
        "def linearFunction(soma):\n",
        "  return soma\n",
        "\n",
        "teste = linearFunction(-0.358)\n",
        "\n",
        "print(teste)"
      ],
      "metadata": {
        "colab": {
          "base_uri": "https://localhost:8080/"
        },
        "id": "Oubhr1oGSZsK",
        "outputId": "4fd322ca-5521-4a79-e98f-256c9ce55268"
      },
      "execution_count": null,
      "outputs": [
        {
          "output_type": "stream",
          "name": "stdout",
          "text": [
            "-0.358\n"
          ]
        }
      ]
    },
    {
      "cell_type": "markdown",
      "source": [
        "## SoftmaxFunction - utilizada em problemas de classificação quando temos mais de 2 classe."
      ],
      "metadata": {
        "id": "T7Rm30OwS69z"
      }
    },
    {
      "cell_type": "code",
      "source": [
        "def softmaxFunction(x):\n",
        "  ex = np.exp(x)\n",
        "  return ex / ex.sum()\n",
        "\n",
        "valores = [7.0, 2.0, 1.3]\n",
        "print(softmaxFunction(valores))"
      ],
      "metadata": {
        "colab": {
          "base_uri": "https://localhost:8080/"
        },
        "id": "J-UbMCU0TKXO",
        "outputId": "58b776e8-d7b8-4404-cbbb-15adfb16fd6e"
      },
      "execution_count": null,
      "outputs": [
        {
          "output_type": "stream",
          "name": "stdout",
          "text": [
            "[0.99001676 0.00667068 0.00331256]\n"
          ]
        }
      ]
    }
  ]
}