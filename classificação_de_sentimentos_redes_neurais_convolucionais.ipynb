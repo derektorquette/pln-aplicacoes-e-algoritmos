{
  "nbformat": 4,
  "nbformat_minor": 0,
  "metadata": {
    "colab": {
      "provenance": [],
      "include_colab_link": true
    },
    "kernelspec": {
      "name": "python3",
      "display_name": "Python 3"
    },
    "accelerator": "TPU"
  },
  "cells": [
    {
      "cell_type": "markdown",
      "metadata": {
        "id": "view-in-github",
        "colab_type": "text"
      },
      "source": [
        "<a href=\"https://colab.research.google.com/github/derektorquette/pln-com-deep-learning-ia-expert/blob/main/classifica%C3%A7%C3%A3o_de_sentimentos_redes_neurais_convolucionais.ipynb\" target=\"_parent\"><img src=\"https://colab.research.google.com/assets/colab-badge.svg\" alt=\"Open In Colab\"/></a>"
      ]
    },
    {
      "cell_type": "markdown",
      "metadata": {
        "id": "EJ6zhycx-LJa"
      },
      "source": [
        "# Etapa 1: Importação das bibliotecas"
      ]
    },
    {
      "cell_type": "code",
      "metadata": {
        "id": "1dfpd7ulxMFP"
      },
      "source": [
        "import numpy as np # cientifica do python\n",
        "import math # recursos matemáticos\n",
        "import re # regex\n",
        "import pandas as pd # base de dados\n",
        "from bs4 import BeautifulSoup # pre processamento em textos\n",
        "from google.colab import drive # drive\n",
        "import zipfile # descompactar\n",
        "import seaborn as sns # graficos visuais\n",
        "import spacy as sp # pln - pre processamento\n",
        "import string # pre processamento\n",
        "import random # numeros aleatórios\n",
        "import matplotlib.pyplot as plt # geracao de gráficos"
      ],
      "execution_count": null,
      "outputs": []
    },
    {
      "cell_type": "code",
      "metadata": {
        "id": "0s8u890hxtSl",
        "colab": {
          "base_uri": "https://localhost:8080/",
          "height": 53
        },
        "outputId": "8279c818-d4c8-44c6-d297-da328a05623c"
      },
      "source": [
        "%tensorflow_version 2.x\n",
        "import tensorflow as tf\n",
        "tf.__version__"
      ],
      "execution_count": null,
      "outputs": [
        {
          "output_type": "stream",
          "name": "stdout",
          "text": [
            "Colab only includes TensorFlow 2.x; %tensorflow_version has no effect.\n"
          ]
        },
        {
          "output_type": "execute_result",
          "data": {
            "text/plain": [
              "'2.12.0'"
            ],
            "application/vnd.google.colaboratory.intrinsic+json": {
              "type": "string"
            }
          },
          "metadata": {},
          "execution_count": 2
        }
      ]
    },
    {
      "cell_type": "code",
      "metadata": {
        "id": "Z9C_Vycux_4G"
      },
      "source": [
        "from tensorflow.keras import layers\n",
        "import tensorflow_datasets as tfds"
      ],
      "execution_count": null,
      "outputs": []
    },
    {
      "cell_type": "markdown",
      "metadata": {
        "id": "WN8EilQG-cwa"
      },
      "source": [
        "# Etapa 2: Pré-processamento dos dados"
      ]
    },
    {
      "cell_type": "markdown",
      "metadata": {
        "id": "52CTV4_q-hpX"
      },
      "source": [
        "## Carregamento dos arquivos"
      ]
    },
    {
      "cell_type": "code",
      "metadata": {
        "id": "USngwoAgy9ly",
        "colab": {
          "base_uri": "https://localhost:8080/"
        },
        "outputId": "94307bd4-eb51-406d-b63c-8d4fa32a71ee"
      },
      "source": [
        "drive.mount(\"/content/drive\")"
      ],
      "execution_count": null,
      "outputs": [
        {
          "output_type": "stream",
          "name": "stdout",
          "text": [
            "Drive already mounted at /content/drive; to attempt to forcibly remount, call drive.mount(\"/content/drive\", force_remount=True).\n"
          ]
        }
      ]
    },
    {
      "cell_type": "code",
      "metadata": {
        "id": "_b0Vq5NczXkR"
      },
      "source": [
        "path = '//content/drive/MyDrive/CURSOS LIVRES FORMAÇÃO COMPLEMENTAR/3. Udemy/TensorFlow, Deep Learning e Python: Construa um Chatbot/trainingandtestdata (1).zip'\n",
        "zip_object = zipfile.ZipFile(file = path, mode = 'r')\n",
        "zip_object.extractall('./')\n",
        "zip_object.close()"
      ],
      "execution_count": null,
      "outputs": []
    },
    {
      "cell_type": "code",
      "metadata": {
        "id": "GpxO33CEz2wU"
      },
      "source": [
        "cols = ['sentiment', 'id', 'date', 'query', 'user', 'text'] # colunas"
      ],
      "execution_count": null,
      "outputs": []
    },
    {
      "cell_type": "code",
      "metadata": {
        "id": "ABodhV5X0AEP"
      },
      "source": [
        "train_data = pd.read_csv('/content/trainingandtestdata/train.csv', header = None,\n",
        "                         names = cols, engine = 'python', encoding = 'latin1')"
      ],
      "execution_count": null,
      "outputs": []
    },
    {
      "cell_type": "code",
      "metadata": {
        "id": "IH2qPu020S-O",
        "colab": {
          "base_uri": "https://localhost:8080/"
        },
        "outputId": "34ac57dd-475a-4152-9479-c279f3f6d45c"
      },
      "source": [
        "train_data.shape"
      ],
      "execution_count": null,
      "outputs": [
        {
          "output_type": "execute_result",
          "data": {
            "text/plain": [
              "(1600000, 6)"
            ]
          },
          "metadata": {},
          "execution_count": 8
        }
      ]
    },
    {
      "cell_type": "code",
      "metadata": {
        "id": "ipULVOik0kIv",
        "colab": {
          "base_uri": "https://localhost:8080/",
          "height": 206
        },
        "outputId": "a726311a-7ec1-428f-e4e3-91f79b39538c"
      },
      "source": [
        "train_data.head()"
      ],
      "execution_count": null,
      "outputs": [
        {
          "output_type": "execute_result",
          "data": {
            "text/plain": [
              "   sentiment          id                          date     query  \\\n",
              "0          0  1467810369  Mon Apr 06 22:19:45 PDT 2009  NO_QUERY   \n",
              "1          0  1467810672  Mon Apr 06 22:19:49 PDT 2009  NO_QUERY   \n",
              "2          0  1467810917  Mon Apr 06 22:19:53 PDT 2009  NO_QUERY   \n",
              "3          0  1467811184  Mon Apr 06 22:19:57 PDT 2009  NO_QUERY   \n",
              "4          0  1467811193  Mon Apr 06 22:19:57 PDT 2009  NO_QUERY   \n",
              "\n",
              "              user                                               text  \n",
              "0  _TheSpecialOne_  @switchfoot http://twitpic.com/2y1zl - Awww, t...  \n",
              "1    scotthamilton  is upset that he can't update his Facebook by ...  \n",
              "2         mattycus  @Kenichan I dived many times for the ball. Man...  \n",
              "3          ElleCTF    my whole body feels itchy and like its on fire   \n",
              "4           Karoli  @nationwideclass no, it's not behaving at all....  "
            ],
            "text/html": [
              "\n",
              "  <div id=\"df-ad62938e-bf74-4739-bc4e-8a907fef8b33\" class=\"colab-df-container\">\n",
              "    <div>\n",
              "<style scoped>\n",
              "    .dataframe tbody tr th:only-of-type {\n",
              "        vertical-align: middle;\n",
              "    }\n",
              "\n",
              "    .dataframe tbody tr th {\n",
              "        vertical-align: top;\n",
              "    }\n",
              "\n",
              "    .dataframe thead th {\n",
              "        text-align: right;\n",
              "    }\n",
              "</style>\n",
              "<table border=\"1\" class=\"dataframe\">\n",
              "  <thead>\n",
              "    <tr style=\"text-align: right;\">\n",
              "      <th></th>\n",
              "      <th>sentiment</th>\n",
              "      <th>id</th>\n",
              "      <th>date</th>\n",
              "      <th>query</th>\n",
              "      <th>user</th>\n",
              "      <th>text</th>\n",
              "    </tr>\n",
              "  </thead>\n",
              "  <tbody>\n",
              "    <tr>\n",
              "      <th>0</th>\n",
              "      <td>0</td>\n",
              "      <td>1467810369</td>\n",
              "      <td>Mon Apr 06 22:19:45 PDT 2009</td>\n",
              "      <td>NO_QUERY</td>\n",
              "      <td>_TheSpecialOne_</td>\n",
              "      <td>@switchfoot http://twitpic.com/2y1zl - Awww, t...</td>\n",
              "    </tr>\n",
              "    <tr>\n",
              "      <th>1</th>\n",
              "      <td>0</td>\n",
              "      <td>1467810672</td>\n",
              "      <td>Mon Apr 06 22:19:49 PDT 2009</td>\n",
              "      <td>NO_QUERY</td>\n",
              "      <td>scotthamilton</td>\n",
              "      <td>is upset that he can't update his Facebook by ...</td>\n",
              "    </tr>\n",
              "    <tr>\n",
              "      <th>2</th>\n",
              "      <td>0</td>\n",
              "      <td>1467810917</td>\n",
              "      <td>Mon Apr 06 22:19:53 PDT 2009</td>\n",
              "      <td>NO_QUERY</td>\n",
              "      <td>mattycus</td>\n",
              "      <td>@Kenichan I dived many times for the ball. Man...</td>\n",
              "    </tr>\n",
              "    <tr>\n",
              "      <th>3</th>\n",
              "      <td>0</td>\n",
              "      <td>1467811184</td>\n",
              "      <td>Mon Apr 06 22:19:57 PDT 2009</td>\n",
              "      <td>NO_QUERY</td>\n",
              "      <td>ElleCTF</td>\n",
              "      <td>my whole body feels itchy and like its on fire</td>\n",
              "    </tr>\n",
              "    <tr>\n",
              "      <th>4</th>\n",
              "      <td>0</td>\n",
              "      <td>1467811193</td>\n",
              "      <td>Mon Apr 06 22:19:57 PDT 2009</td>\n",
              "      <td>NO_QUERY</td>\n",
              "      <td>Karoli</td>\n",
              "      <td>@nationwideclass no, it's not behaving at all....</td>\n",
              "    </tr>\n",
              "  </tbody>\n",
              "</table>\n",
              "</div>\n",
              "    <div class=\"colab-df-buttons\">\n",
              "\n",
              "  <div class=\"colab-df-container\">\n",
              "    <button class=\"colab-df-convert\" onclick=\"convertToInteractive('df-ad62938e-bf74-4739-bc4e-8a907fef8b33')\"\n",
              "            title=\"Convert this dataframe to an interactive table.\"\n",
              "            style=\"display:none;\">\n",
              "\n",
              "  <svg xmlns=\"http://www.w3.org/2000/svg\" height=\"24px\" viewBox=\"0 -960 960 960\">\n",
              "    <path d=\"M120-120v-720h720v720H120Zm60-500h600v-160H180v160Zm220 220h160v-160H400v160Zm0 220h160v-160H400v160ZM180-400h160v-160H180v160Zm440 0h160v-160H620v160ZM180-180h160v-160H180v160Zm440 0h160v-160H620v160Z\"/>\n",
              "  </svg>\n",
              "    </button>\n",
              "\n",
              "  <style>\n",
              "    .colab-df-container {\n",
              "      display:flex;\n",
              "      gap: 12px;\n",
              "    }\n",
              "\n",
              "    .colab-df-convert {\n",
              "      background-color: #E8F0FE;\n",
              "      border: none;\n",
              "      border-radius: 50%;\n",
              "      cursor: pointer;\n",
              "      display: none;\n",
              "      fill: #1967D2;\n",
              "      height: 32px;\n",
              "      padding: 0 0 0 0;\n",
              "      width: 32px;\n",
              "    }\n",
              "\n",
              "    .colab-df-convert:hover {\n",
              "      background-color: #E2EBFA;\n",
              "      box-shadow: 0px 1px 2px rgba(60, 64, 67, 0.3), 0px 1px 3px 1px rgba(60, 64, 67, 0.15);\n",
              "      fill: #174EA6;\n",
              "    }\n",
              "\n",
              "    .colab-df-buttons div {\n",
              "      margin-bottom: 4px;\n",
              "    }\n",
              "\n",
              "    [theme=dark] .colab-df-convert {\n",
              "      background-color: #3B4455;\n",
              "      fill: #D2E3FC;\n",
              "    }\n",
              "\n",
              "    [theme=dark] .colab-df-convert:hover {\n",
              "      background-color: #434B5C;\n",
              "      box-shadow: 0px 1px 3px 1px rgba(0, 0, 0, 0.15);\n",
              "      filter: drop-shadow(0px 1px 2px rgba(0, 0, 0, 0.3));\n",
              "      fill: #FFFFFF;\n",
              "    }\n",
              "  </style>\n",
              "\n",
              "    <script>\n",
              "      const buttonEl =\n",
              "        document.querySelector('#df-ad62938e-bf74-4739-bc4e-8a907fef8b33 button.colab-df-convert');\n",
              "      buttonEl.style.display =\n",
              "        google.colab.kernel.accessAllowed ? 'block' : 'none';\n",
              "\n",
              "      async function convertToInteractive(key) {\n",
              "        const element = document.querySelector('#df-ad62938e-bf74-4739-bc4e-8a907fef8b33');\n",
              "        const dataTable =\n",
              "          await google.colab.kernel.invokeFunction('convertToInteractive',\n",
              "                                                    [key], {});\n",
              "        if (!dataTable) return;\n",
              "\n",
              "        const docLinkHtml = 'Like what you see? Visit the ' +\n",
              "          '<a target=\"_blank\" href=https://colab.research.google.com/notebooks/data_table.ipynb>data table notebook</a>'\n",
              "          + ' to learn more about interactive tables.';\n",
              "        element.innerHTML = '';\n",
              "        dataTable['output_type'] = 'display_data';\n",
              "        await google.colab.output.renderOutput(dataTable, element);\n",
              "        const docLink = document.createElement('div');\n",
              "        docLink.innerHTML = docLinkHtml;\n",
              "        element.appendChild(docLink);\n",
              "      }\n",
              "    </script>\n",
              "  </div>\n",
              "\n",
              "\n",
              "<div id=\"df-e1f4c7f6-02dc-44e7-a0bc-8caca97d2472\">\n",
              "  <button class=\"colab-df-quickchart\" onclick=\"quickchart('df-e1f4c7f6-02dc-44e7-a0bc-8caca97d2472')\"\n",
              "            title=\"Suggest charts\"\n",
              "            style=\"display:none;\">\n",
              "\n",
              "<svg xmlns=\"http://www.w3.org/2000/svg\" height=\"24px\"viewBox=\"0 0 24 24\"\n",
              "     width=\"24px\">\n",
              "    <g>\n",
              "        <path d=\"M19 3H5c-1.1 0-2 .9-2 2v14c0 1.1.9 2 2 2h14c1.1 0 2-.9 2-2V5c0-1.1-.9-2-2-2zM9 17H7v-7h2v7zm4 0h-2V7h2v10zm4 0h-2v-4h2v4z\"/>\n",
              "    </g>\n",
              "</svg>\n",
              "  </button>\n",
              "\n",
              "<style>\n",
              "  .colab-df-quickchart {\n",
              "      --bg-color: #E8F0FE;\n",
              "      --fill-color: #1967D2;\n",
              "      --hover-bg-color: #E2EBFA;\n",
              "      --hover-fill-color: #174EA6;\n",
              "      --disabled-fill-color: #AAA;\n",
              "      --disabled-bg-color: #DDD;\n",
              "  }\n",
              "\n",
              "  [theme=dark] .colab-df-quickchart {\n",
              "      --bg-color: #3B4455;\n",
              "      --fill-color: #D2E3FC;\n",
              "      --hover-bg-color: #434B5C;\n",
              "      --hover-fill-color: #FFFFFF;\n",
              "      --disabled-bg-color: #3B4455;\n",
              "      --disabled-fill-color: #666;\n",
              "  }\n",
              "\n",
              "  .colab-df-quickchart {\n",
              "    background-color: var(--bg-color);\n",
              "    border: none;\n",
              "    border-radius: 50%;\n",
              "    cursor: pointer;\n",
              "    display: none;\n",
              "    fill: var(--fill-color);\n",
              "    height: 32px;\n",
              "    padding: 0;\n",
              "    width: 32px;\n",
              "  }\n",
              "\n",
              "  .colab-df-quickchart:hover {\n",
              "    background-color: var(--hover-bg-color);\n",
              "    box-shadow: 0 1px 2px rgba(60, 64, 67, 0.3), 0 1px 3px 1px rgba(60, 64, 67, 0.15);\n",
              "    fill: var(--button-hover-fill-color);\n",
              "  }\n",
              "\n",
              "  .colab-df-quickchart-complete:disabled,\n",
              "  .colab-df-quickchart-complete:disabled:hover {\n",
              "    background-color: var(--disabled-bg-color);\n",
              "    fill: var(--disabled-fill-color);\n",
              "    box-shadow: none;\n",
              "  }\n",
              "\n",
              "  .colab-df-spinner {\n",
              "    border: 2px solid var(--fill-color);\n",
              "    border-color: transparent;\n",
              "    border-bottom-color: var(--fill-color);\n",
              "    animation:\n",
              "      spin 1s steps(1) infinite;\n",
              "  }\n",
              "\n",
              "  @keyframes spin {\n",
              "    0% {\n",
              "      border-color: transparent;\n",
              "      border-bottom-color: var(--fill-color);\n",
              "      border-left-color: var(--fill-color);\n",
              "    }\n",
              "    20% {\n",
              "      border-color: transparent;\n",
              "      border-left-color: var(--fill-color);\n",
              "      border-top-color: var(--fill-color);\n",
              "    }\n",
              "    30% {\n",
              "      border-color: transparent;\n",
              "      border-left-color: var(--fill-color);\n",
              "      border-top-color: var(--fill-color);\n",
              "      border-right-color: var(--fill-color);\n",
              "    }\n",
              "    40% {\n",
              "      border-color: transparent;\n",
              "      border-right-color: var(--fill-color);\n",
              "      border-top-color: var(--fill-color);\n",
              "    }\n",
              "    60% {\n",
              "      border-color: transparent;\n",
              "      border-right-color: var(--fill-color);\n",
              "    }\n",
              "    80% {\n",
              "      border-color: transparent;\n",
              "      border-right-color: var(--fill-color);\n",
              "      border-bottom-color: var(--fill-color);\n",
              "    }\n",
              "    90% {\n",
              "      border-color: transparent;\n",
              "      border-bottom-color: var(--fill-color);\n",
              "    }\n",
              "  }\n",
              "</style>\n",
              "\n",
              "  <script>\n",
              "    async function quickchart(key) {\n",
              "      const quickchartButtonEl =\n",
              "        document.querySelector('#' + key + ' button');\n",
              "      quickchartButtonEl.disabled = true;  // To prevent multiple clicks.\n",
              "      quickchartButtonEl.classList.add('colab-df-spinner');\n",
              "      try {\n",
              "        const charts = await google.colab.kernel.invokeFunction(\n",
              "            'suggestCharts', [key], {});\n",
              "      } catch (error) {\n",
              "        console.error('Error during call to suggestCharts:', error);\n",
              "      }\n",
              "      quickchartButtonEl.classList.remove('colab-df-spinner');\n",
              "      quickchartButtonEl.classList.add('colab-df-quickchart-complete');\n",
              "    }\n",
              "    (() => {\n",
              "      let quickchartButtonEl =\n",
              "        document.querySelector('#df-e1f4c7f6-02dc-44e7-a0bc-8caca97d2472 button');\n",
              "      quickchartButtonEl.style.display =\n",
              "        google.colab.kernel.accessAllowed ? 'block' : 'none';\n",
              "    })();\n",
              "  </script>\n",
              "</div>\n",
              "\n",
              "    </div>\n",
              "  </div>\n"
            ],
            "application/vnd.google.colaboratory.intrinsic+json": {
              "type": "dataframe",
              "variable_name": "train_data"
            }
          },
          "metadata": {},
          "execution_count": 9
        }
      ]
    },
    {
      "cell_type": "code",
      "metadata": {
        "id": "-lcG4i170rHC",
        "colab": {
          "base_uri": "https://localhost:8080/",
          "height": 206
        },
        "outputId": "e9d4d00a-637e-4f16-f3bd-12576822045d"
      },
      "source": [
        "train_data.tail() # os ultimos"
      ],
      "execution_count": null,
      "outputs": [
        {
          "output_type": "execute_result",
          "data": {
            "text/plain": [
              "         sentiment          id                          date     query  \\\n",
              "1599995          4  2193601966  Tue Jun 16 08:40:49 PDT 2009  NO_QUERY   \n",
              "1599996          4  2193601969  Tue Jun 16 08:40:49 PDT 2009  NO_QUERY   \n",
              "1599997          4  2193601991  Tue Jun 16 08:40:49 PDT 2009  NO_QUERY   \n",
              "1599998          4  2193602064  Tue Jun 16 08:40:49 PDT 2009  NO_QUERY   \n",
              "1599999          4  2193602129  Tue Jun 16 08:40:50 PDT 2009  NO_QUERY   \n",
              "\n",
              "                    user                                               text  \n",
              "1599995  AmandaMarie1028  Just woke up. Having no school is the best fee...  \n",
              "1599996      TheWDBoards  TheWDB.com - Very cool to hear old Walt interv...  \n",
              "1599997           bpbabe  Are you ready for your MoJo Makeover? Ask me f...  \n",
              "1599998     tinydiamondz  Happy 38th Birthday to my boo of alll time!!! ...  \n",
              "1599999   RyanTrevMorris  happy #charitytuesday @theNSPCC @SparksCharity...  "
            ],
            "text/html": [
              "\n",
              "  <div id=\"df-81b99a0d-5f3e-403e-b6f6-646143e11273\" class=\"colab-df-container\">\n",
              "    <div>\n",
              "<style scoped>\n",
              "    .dataframe tbody tr th:only-of-type {\n",
              "        vertical-align: middle;\n",
              "    }\n",
              "\n",
              "    .dataframe tbody tr th {\n",
              "        vertical-align: top;\n",
              "    }\n",
              "\n",
              "    .dataframe thead th {\n",
              "        text-align: right;\n",
              "    }\n",
              "</style>\n",
              "<table border=\"1\" class=\"dataframe\">\n",
              "  <thead>\n",
              "    <tr style=\"text-align: right;\">\n",
              "      <th></th>\n",
              "      <th>sentiment</th>\n",
              "      <th>id</th>\n",
              "      <th>date</th>\n",
              "      <th>query</th>\n",
              "      <th>user</th>\n",
              "      <th>text</th>\n",
              "    </tr>\n",
              "  </thead>\n",
              "  <tbody>\n",
              "    <tr>\n",
              "      <th>1599995</th>\n",
              "      <td>4</td>\n",
              "      <td>2193601966</td>\n",
              "      <td>Tue Jun 16 08:40:49 PDT 2009</td>\n",
              "      <td>NO_QUERY</td>\n",
              "      <td>AmandaMarie1028</td>\n",
              "      <td>Just woke up. Having no school is the best fee...</td>\n",
              "    </tr>\n",
              "    <tr>\n",
              "      <th>1599996</th>\n",
              "      <td>4</td>\n",
              "      <td>2193601969</td>\n",
              "      <td>Tue Jun 16 08:40:49 PDT 2009</td>\n",
              "      <td>NO_QUERY</td>\n",
              "      <td>TheWDBoards</td>\n",
              "      <td>TheWDB.com - Very cool to hear old Walt interv...</td>\n",
              "    </tr>\n",
              "    <tr>\n",
              "      <th>1599997</th>\n",
              "      <td>4</td>\n",
              "      <td>2193601991</td>\n",
              "      <td>Tue Jun 16 08:40:49 PDT 2009</td>\n",
              "      <td>NO_QUERY</td>\n",
              "      <td>bpbabe</td>\n",
              "      <td>Are you ready for your MoJo Makeover? Ask me f...</td>\n",
              "    </tr>\n",
              "    <tr>\n",
              "      <th>1599998</th>\n",
              "      <td>4</td>\n",
              "      <td>2193602064</td>\n",
              "      <td>Tue Jun 16 08:40:49 PDT 2009</td>\n",
              "      <td>NO_QUERY</td>\n",
              "      <td>tinydiamondz</td>\n",
              "      <td>Happy 38th Birthday to my boo of alll time!!! ...</td>\n",
              "    </tr>\n",
              "    <tr>\n",
              "      <th>1599999</th>\n",
              "      <td>4</td>\n",
              "      <td>2193602129</td>\n",
              "      <td>Tue Jun 16 08:40:50 PDT 2009</td>\n",
              "      <td>NO_QUERY</td>\n",
              "      <td>RyanTrevMorris</td>\n",
              "      <td>happy #charitytuesday @theNSPCC @SparksCharity...</td>\n",
              "    </tr>\n",
              "  </tbody>\n",
              "</table>\n",
              "</div>\n",
              "    <div class=\"colab-df-buttons\">\n",
              "\n",
              "  <div class=\"colab-df-container\">\n",
              "    <button class=\"colab-df-convert\" onclick=\"convertToInteractive('df-81b99a0d-5f3e-403e-b6f6-646143e11273')\"\n",
              "            title=\"Convert this dataframe to an interactive table.\"\n",
              "            style=\"display:none;\">\n",
              "\n",
              "  <svg xmlns=\"http://www.w3.org/2000/svg\" height=\"24px\" viewBox=\"0 -960 960 960\">\n",
              "    <path d=\"M120-120v-720h720v720H120Zm60-500h600v-160H180v160Zm220 220h160v-160H400v160Zm0 220h160v-160H400v160ZM180-400h160v-160H180v160Zm440 0h160v-160H620v160ZM180-180h160v-160H180v160Zm440 0h160v-160H620v160Z\"/>\n",
              "  </svg>\n",
              "    </button>\n",
              "\n",
              "  <style>\n",
              "    .colab-df-container {\n",
              "      display:flex;\n",
              "      gap: 12px;\n",
              "    }\n",
              "\n",
              "    .colab-df-convert {\n",
              "      background-color: #E8F0FE;\n",
              "      border: none;\n",
              "      border-radius: 50%;\n",
              "      cursor: pointer;\n",
              "      display: none;\n",
              "      fill: #1967D2;\n",
              "      height: 32px;\n",
              "      padding: 0 0 0 0;\n",
              "      width: 32px;\n",
              "    }\n",
              "\n",
              "    .colab-df-convert:hover {\n",
              "      background-color: #E2EBFA;\n",
              "      box-shadow: 0px 1px 2px rgba(60, 64, 67, 0.3), 0px 1px 3px 1px rgba(60, 64, 67, 0.15);\n",
              "      fill: #174EA6;\n",
              "    }\n",
              "\n",
              "    .colab-df-buttons div {\n",
              "      margin-bottom: 4px;\n",
              "    }\n",
              "\n",
              "    [theme=dark] .colab-df-convert {\n",
              "      background-color: #3B4455;\n",
              "      fill: #D2E3FC;\n",
              "    }\n",
              "\n",
              "    [theme=dark] .colab-df-convert:hover {\n",
              "      background-color: #434B5C;\n",
              "      box-shadow: 0px 1px 3px 1px rgba(0, 0, 0, 0.15);\n",
              "      filter: drop-shadow(0px 1px 2px rgba(0, 0, 0, 0.3));\n",
              "      fill: #FFFFFF;\n",
              "    }\n",
              "  </style>\n",
              "\n",
              "    <script>\n",
              "      const buttonEl =\n",
              "        document.querySelector('#df-81b99a0d-5f3e-403e-b6f6-646143e11273 button.colab-df-convert');\n",
              "      buttonEl.style.display =\n",
              "        google.colab.kernel.accessAllowed ? 'block' : 'none';\n",
              "\n",
              "      async function convertToInteractive(key) {\n",
              "        const element = document.querySelector('#df-81b99a0d-5f3e-403e-b6f6-646143e11273');\n",
              "        const dataTable =\n",
              "          await google.colab.kernel.invokeFunction('convertToInteractive',\n",
              "                                                    [key], {});\n",
              "        if (!dataTable) return;\n",
              "\n",
              "        const docLinkHtml = 'Like what you see? Visit the ' +\n",
              "          '<a target=\"_blank\" href=https://colab.research.google.com/notebooks/data_table.ipynb>data table notebook</a>'\n",
              "          + ' to learn more about interactive tables.';\n",
              "        element.innerHTML = '';\n",
              "        dataTable['output_type'] = 'display_data';\n",
              "        await google.colab.output.renderOutput(dataTable, element);\n",
              "        const docLink = document.createElement('div');\n",
              "        docLink.innerHTML = docLinkHtml;\n",
              "        element.appendChild(docLink);\n",
              "      }\n",
              "    </script>\n",
              "  </div>\n",
              "\n",
              "\n",
              "<div id=\"df-e148f9d5-6a62-49fa-ba97-de8a90a64051\">\n",
              "  <button class=\"colab-df-quickchart\" onclick=\"quickchart('df-e148f9d5-6a62-49fa-ba97-de8a90a64051')\"\n",
              "            title=\"Suggest charts\"\n",
              "            style=\"display:none;\">\n",
              "\n",
              "<svg xmlns=\"http://www.w3.org/2000/svg\" height=\"24px\"viewBox=\"0 0 24 24\"\n",
              "     width=\"24px\">\n",
              "    <g>\n",
              "        <path d=\"M19 3H5c-1.1 0-2 .9-2 2v14c0 1.1.9 2 2 2h14c1.1 0 2-.9 2-2V5c0-1.1-.9-2-2-2zM9 17H7v-7h2v7zm4 0h-2V7h2v10zm4 0h-2v-4h2v4z\"/>\n",
              "    </g>\n",
              "</svg>\n",
              "  </button>\n",
              "\n",
              "<style>\n",
              "  .colab-df-quickchart {\n",
              "      --bg-color: #E8F0FE;\n",
              "      --fill-color: #1967D2;\n",
              "      --hover-bg-color: #E2EBFA;\n",
              "      --hover-fill-color: #174EA6;\n",
              "      --disabled-fill-color: #AAA;\n",
              "      --disabled-bg-color: #DDD;\n",
              "  }\n",
              "\n",
              "  [theme=dark] .colab-df-quickchart {\n",
              "      --bg-color: #3B4455;\n",
              "      --fill-color: #D2E3FC;\n",
              "      --hover-bg-color: #434B5C;\n",
              "      --hover-fill-color: #FFFFFF;\n",
              "      --disabled-bg-color: #3B4455;\n",
              "      --disabled-fill-color: #666;\n",
              "  }\n",
              "\n",
              "  .colab-df-quickchart {\n",
              "    background-color: var(--bg-color);\n",
              "    border: none;\n",
              "    border-radius: 50%;\n",
              "    cursor: pointer;\n",
              "    display: none;\n",
              "    fill: var(--fill-color);\n",
              "    height: 32px;\n",
              "    padding: 0;\n",
              "    width: 32px;\n",
              "  }\n",
              "\n",
              "  .colab-df-quickchart:hover {\n",
              "    background-color: var(--hover-bg-color);\n",
              "    box-shadow: 0 1px 2px rgba(60, 64, 67, 0.3), 0 1px 3px 1px rgba(60, 64, 67, 0.15);\n",
              "    fill: var(--button-hover-fill-color);\n",
              "  }\n",
              "\n",
              "  .colab-df-quickchart-complete:disabled,\n",
              "  .colab-df-quickchart-complete:disabled:hover {\n",
              "    background-color: var(--disabled-bg-color);\n",
              "    fill: var(--disabled-fill-color);\n",
              "    box-shadow: none;\n",
              "  }\n",
              "\n",
              "  .colab-df-spinner {\n",
              "    border: 2px solid var(--fill-color);\n",
              "    border-color: transparent;\n",
              "    border-bottom-color: var(--fill-color);\n",
              "    animation:\n",
              "      spin 1s steps(1) infinite;\n",
              "  }\n",
              "\n",
              "  @keyframes spin {\n",
              "    0% {\n",
              "      border-color: transparent;\n",
              "      border-bottom-color: var(--fill-color);\n",
              "      border-left-color: var(--fill-color);\n",
              "    }\n",
              "    20% {\n",
              "      border-color: transparent;\n",
              "      border-left-color: var(--fill-color);\n",
              "      border-top-color: var(--fill-color);\n",
              "    }\n",
              "    30% {\n",
              "      border-color: transparent;\n",
              "      border-left-color: var(--fill-color);\n",
              "      border-top-color: var(--fill-color);\n",
              "      border-right-color: var(--fill-color);\n",
              "    }\n",
              "    40% {\n",
              "      border-color: transparent;\n",
              "      border-right-color: var(--fill-color);\n",
              "      border-top-color: var(--fill-color);\n",
              "    }\n",
              "    60% {\n",
              "      border-color: transparent;\n",
              "      border-right-color: var(--fill-color);\n",
              "    }\n",
              "    80% {\n",
              "      border-color: transparent;\n",
              "      border-right-color: var(--fill-color);\n",
              "      border-bottom-color: var(--fill-color);\n",
              "    }\n",
              "    90% {\n",
              "      border-color: transparent;\n",
              "      border-bottom-color: var(--fill-color);\n",
              "    }\n",
              "  }\n",
              "</style>\n",
              "\n",
              "  <script>\n",
              "    async function quickchart(key) {\n",
              "      const quickchartButtonEl =\n",
              "        document.querySelector('#' + key + ' button');\n",
              "      quickchartButtonEl.disabled = true;  // To prevent multiple clicks.\n",
              "      quickchartButtonEl.classList.add('colab-df-spinner');\n",
              "      try {\n",
              "        const charts = await google.colab.kernel.invokeFunction(\n",
              "            'suggestCharts', [key], {});\n",
              "      } catch (error) {\n",
              "        console.error('Error during call to suggestCharts:', error);\n",
              "      }\n",
              "      quickchartButtonEl.classList.remove('colab-df-spinner');\n",
              "      quickchartButtonEl.classList.add('colab-df-quickchart-complete');\n",
              "    }\n",
              "    (() => {\n",
              "      let quickchartButtonEl =\n",
              "        document.querySelector('#df-e148f9d5-6a62-49fa-ba97-de8a90a64051 button');\n",
              "      quickchartButtonEl.style.display =\n",
              "        google.colab.kernel.accessAllowed ? 'block' : 'none';\n",
              "    })();\n",
              "  </script>\n",
              "</div>\n",
              "\n",
              "    </div>\n",
              "  </div>\n"
            ],
            "application/vnd.google.colaboratory.intrinsic+json": {
              "type": "dataframe",
              "repr_error": "0"
            }
          },
          "metadata": {},
          "execution_count": 10
        }
      ]
    },
    {
      "cell_type": "code",
      "metadata": {
        "id": "qs3Sxcs9003F",
        "colab": {
          "base_uri": "https://localhost:8080/"
        },
        "outputId": "9399a916-5611-410f-940f-cfddc9624b35"
      },
      "source": [
        "train_data.sentiment.unique()"
      ],
      "execution_count": null,
      "outputs": [
        {
          "output_type": "execute_result",
          "data": {
            "text/plain": [
              "array([0, 4])"
            ]
          },
          "metadata": {},
          "execution_count": 11
        }
      ]
    },
    {
      "cell_type": "code",
      "source": [
        "sns.countplot(train_data.sentiment);"
      ],
      "metadata": {
        "id": "19HH8yUNGqlK"
      },
      "execution_count": null,
      "outputs": []
    },
    {
      "cell_type": "code",
      "metadata": {
        "id": "u9DsaSa8Lgbz"
      },
      "source": [
        "test_data = pd.read_csv(\"/content/trainingandtestdata/test.csv\",\n",
        "    header=None,\n",
        "    names=cols,\n",
        "    engine=\"python\",\n",
        "    encoding=\"latin1\"\n",
        ")"
      ],
      "execution_count": 13,
      "outputs": []
    },
    {
      "cell_type": "code",
      "metadata": {
        "id": "iz4_kdXcNrK_",
        "colab": {
          "base_uri": "https://localhost:8080/",
          "height": 206
        },
        "outputId": "0fda9317-d632-46d8-e45b-9e58a30644c0"
      },
      "source": [
        "test_data.head()"
      ],
      "execution_count": 14,
      "outputs": [
        {
          "output_type": "execute_result",
          "data": {
            "text/plain": [
              "   sentiment  id                          date    query      user  \\\n",
              "0          4   3  Mon May 11 03:17:40 UTC 2009  kindle2    tpryan   \n",
              "1          4   4  Mon May 11 03:18:03 UTC 2009  kindle2    vcu451   \n",
              "2          4   5  Mon May 11 03:18:54 UTC 2009  kindle2    chadfu   \n",
              "3          4   6  Mon May 11 03:19:04 UTC 2009  kindle2     SIX15   \n",
              "4          4   7  Mon May 11 03:21:41 UTC 2009  kindle2  yamarama   \n",
              "\n",
              "                                                text  \n",
              "0  @stellargirl I loooooooovvvvvveee my Kindle2. ...  \n",
              "1  Reading my kindle2...  Love it... Lee childs i...  \n",
              "2  Ok, first assesment of the #kindle2 ...it fuck...  \n",
              "3  @kenburbary You'll love your Kindle2. I've had...  \n",
              "4  @mikefish  Fair enough. But i have the Kindle2...  "
            ],
            "text/html": [
              "\n",
              "  <div id=\"df-fd5866e0-42cb-4dd6-849f-56908fd91cfb\" class=\"colab-df-container\">\n",
              "    <div>\n",
              "<style scoped>\n",
              "    .dataframe tbody tr th:only-of-type {\n",
              "        vertical-align: middle;\n",
              "    }\n",
              "\n",
              "    .dataframe tbody tr th {\n",
              "        vertical-align: top;\n",
              "    }\n",
              "\n",
              "    .dataframe thead th {\n",
              "        text-align: right;\n",
              "    }\n",
              "</style>\n",
              "<table border=\"1\" class=\"dataframe\">\n",
              "  <thead>\n",
              "    <tr style=\"text-align: right;\">\n",
              "      <th></th>\n",
              "      <th>sentiment</th>\n",
              "      <th>id</th>\n",
              "      <th>date</th>\n",
              "      <th>query</th>\n",
              "      <th>user</th>\n",
              "      <th>text</th>\n",
              "    </tr>\n",
              "  </thead>\n",
              "  <tbody>\n",
              "    <tr>\n",
              "      <th>0</th>\n",
              "      <td>4</td>\n",
              "      <td>3</td>\n",
              "      <td>Mon May 11 03:17:40 UTC 2009</td>\n",
              "      <td>kindle2</td>\n",
              "      <td>tpryan</td>\n",
              "      <td>@stellargirl I loooooooovvvvvveee my Kindle2. ...</td>\n",
              "    </tr>\n",
              "    <tr>\n",
              "      <th>1</th>\n",
              "      <td>4</td>\n",
              "      <td>4</td>\n",
              "      <td>Mon May 11 03:18:03 UTC 2009</td>\n",
              "      <td>kindle2</td>\n",
              "      <td>vcu451</td>\n",
              "      <td>Reading my kindle2...  Love it... Lee childs i...</td>\n",
              "    </tr>\n",
              "    <tr>\n",
              "      <th>2</th>\n",
              "      <td>4</td>\n",
              "      <td>5</td>\n",
              "      <td>Mon May 11 03:18:54 UTC 2009</td>\n",
              "      <td>kindle2</td>\n",
              "      <td>chadfu</td>\n",
              "      <td>Ok, first assesment of the #kindle2 ...it fuck...</td>\n",
              "    </tr>\n",
              "    <tr>\n",
              "      <th>3</th>\n",
              "      <td>4</td>\n",
              "      <td>6</td>\n",
              "      <td>Mon May 11 03:19:04 UTC 2009</td>\n",
              "      <td>kindle2</td>\n",
              "      <td>SIX15</td>\n",
              "      <td>@kenburbary You'll love your Kindle2. I've had...</td>\n",
              "    </tr>\n",
              "    <tr>\n",
              "      <th>4</th>\n",
              "      <td>4</td>\n",
              "      <td>7</td>\n",
              "      <td>Mon May 11 03:21:41 UTC 2009</td>\n",
              "      <td>kindle2</td>\n",
              "      <td>yamarama</td>\n",
              "      <td>@mikefish  Fair enough. But i have the Kindle2...</td>\n",
              "    </tr>\n",
              "  </tbody>\n",
              "</table>\n",
              "</div>\n",
              "    <div class=\"colab-df-buttons\">\n",
              "\n",
              "  <div class=\"colab-df-container\">\n",
              "    <button class=\"colab-df-convert\" onclick=\"convertToInteractive('df-fd5866e0-42cb-4dd6-849f-56908fd91cfb')\"\n",
              "            title=\"Convert this dataframe to an interactive table.\"\n",
              "            style=\"display:none;\">\n",
              "\n",
              "  <svg xmlns=\"http://www.w3.org/2000/svg\" height=\"24px\" viewBox=\"0 -960 960 960\">\n",
              "    <path d=\"M120-120v-720h720v720H120Zm60-500h600v-160H180v160Zm220 220h160v-160H400v160Zm0 220h160v-160H400v160ZM180-400h160v-160H180v160Zm440 0h160v-160H620v160ZM180-180h160v-160H180v160Zm440 0h160v-160H620v160Z\"/>\n",
              "  </svg>\n",
              "    </button>\n",
              "\n",
              "  <style>\n",
              "    .colab-df-container {\n",
              "      display:flex;\n",
              "      gap: 12px;\n",
              "    }\n",
              "\n",
              "    .colab-df-convert {\n",
              "      background-color: #E8F0FE;\n",
              "      border: none;\n",
              "      border-radius: 50%;\n",
              "      cursor: pointer;\n",
              "      display: none;\n",
              "      fill: #1967D2;\n",
              "      height: 32px;\n",
              "      padding: 0 0 0 0;\n",
              "      width: 32px;\n",
              "    }\n",
              "\n",
              "    .colab-df-convert:hover {\n",
              "      background-color: #E2EBFA;\n",
              "      box-shadow: 0px 1px 2px rgba(60, 64, 67, 0.3), 0px 1px 3px 1px rgba(60, 64, 67, 0.15);\n",
              "      fill: #174EA6;\n",
              "    }\n",
              "\n",
              "    .colab-df-buttons div {\n",
              "      margin-bottom: 4px;\n",
              "    }\n",
              "\n",
              "    [theme=dark] .colab-df-convert {\n",
              "      background-color: #3B4455;\n",
              "      fill: #D2E3FC;\n",
              "    }\n",
              "\n",
              "    [theme=dark] .colab-df-convert:hover {\n",
              "      background-color: #434B5C;\n",
              "      box-shadow: 0px 1px 3px 1px rgba(0, 0, 0, 0.15);\n",
              "      filter: drop-shadow(0px 1px 2px rgba(0, 0, 0, 0.3));\n",
              "      fill: #FFFFFF;\n",
              "    }\n",
              "  </style>\n",
              "\n",
              "    <script>\n",
              "      const buttonEl =\n",
              "        document.querySelector('#df-fd5866e0-42cb-4dd6-849f-56908fd91cfb button.colab-df-convert');\n",
              "      buttonEl.style.display =\n",
              "        google.colab.kernel.accessAllowed ? 'block' : 'none';\n",
              "\n",
              "      async function convertToInteractive(key) {\n",
              "        const element = document.querySelector('#df-fd5866e0-42cb-4dd6-849f-56908fd91cfb');\n",
              "        const dataTable =\n",
              "          await google.colab.kernel.invokeFunction('convertToInteractive',\n",
              "                                                    [key], {});\n",
              "        if (!dataTable) return;\n",
              "\n",
              "        const docLinkHtml = 'Like what you see? Visit the ' +\n",
              "          '<a target=\"_blank\" href=https://colab.research.google.com/notebooks/data_table.ipynb>data table notebook</a>'\n",
              "          + ' to learn more about interactive tables.';\n",
              "        element.innerHTML = '';\n",
              "        dataTable['output_type'] = 'display_data';\n",
              "        await google.colab.output.renderOutput(dataTable, element);\n",
              "        const docLink = document.createElement('div');\n",
              "        docLink.innerHTML = docLinkHtml;\n",
              "        element.appendChild(docLink);\n",
              "      }\n",
              "    </script>\n",
              "  </div>\n",
              "\n",
              "\n",
              "<div id=\"df-84e96d75-e330-4fa6-b3e1-91bdd05b2e19\">\n",
              "  <button class=\"colab-df-quickchart\" onclick=\"quickchart('df-84e96d75-e330-4fa6-b3e1-91bdd05b2e19')\"\n",
              "            title=\"Suggest charts\"\n",
              "            style=\"display:none;\">\n",
              "\n",
              "<svg xmlns=\"http://www.w3.org/2000/svg\" height=\"24px\"viewBox=\"0 0 24 24\"\n",
              "     width=\"24px\">\n",
              "    <g>\n",
              "        <path d=\"M19 3H5c-1.1 0-2 .9-2 2v14c0 1.1.9 2 2 2h14c1.1 0 2-.9 2-2V5c0-1.1-.9-2-2-2zM9 17H7v-7h2v7zm4 0h-2V7h2v10zm4 0h-2v-4h2v4z\"/>\n",
              "    </g>\n",
              "</svg>\n",
              "  </button>\n",
              "\n",
              "<style>\n",
              "  .colab-df-quickchart {\n",
              "      --bg-color: #E8F0FE;\n",
              "      --fill-color: #1967D2;\n",
              "      --hover-bg-color: #E2EBFA;\n",
              "      --hover-fill-color: #174EA6;\n",
              "      --disabled-fill-color: #AAA;\n",
              "      --disabled-bg-color: #DDD;\n",
              "  }\n",
              "\n",
              "  [theme=dark] .colab-df-quickchart {\n",
              "      --bg-color: #3B4455;\n",
              "      --fill-color: #D2E3FC;\n",
              "      --hover-bg-color: #434B5C;\n",
              "      --hover-fill-color: #FFFFFF;\n",
              "      --disabled-bg-color: #3B4455;\n",
              "      --disabled-fill-color: #666;\n",
              "  }\n",
              "\n",
              "  .colab-df-quickchart {\n",
              "    background-color: var(--bg-color);\n",
              "    border: none;\n",
              "    border-radius: 50%;\n",
              "    cursor: pointer;\n",
              "    display: none;\n",
              "    fill: var(--fill-color);\n",
              "    height: 32px;\n",
              "    padding: 0;\n",
              "    width: 32px;\n",
              "  }\n",
              "\n",
              "  .colab-df-quickchart:hover {\n",
              "    background-color: var(--hover-bg-color);\n",
              "    box-shadow: 0 1px 2px rgba(60, 64, 67, 0.3), 0 1px 3px 1px rgba(60, 64, 67, 0.15);\n",
              "    fill: var(--button-hover-fill-color);\n",
              "  }\n",
              "\n",
              "  .colab-df-quickchart-complete:disabled,\n",
              "  .colab-df-quickchart-complete:disabled:hover {\n",
              "    background-color: var(--disabled-bg-color);\n",
              "    fill: var(--disabled-fill-color);\n",
              "    box-shadow: none;\n",
              "  }\n",
              "\n",
              "  .colab-df-spinner {\n",
              "    border: 2px solid var(--fill-color);\n",
              "    border-color: transparent;\n",
              "    border-bottom-color: var(--fill-color);\n",
              "    animation:\n",
              "      spin 1s steps(1) infinite;\n",
              "  }\n",
              "\n",
              "  @keyframes spin {\n",
              "    0% {\n",
              "      border-color: transparent;\n",
              "      border-bottom-color: var(--fill-color);\n",
              "      border-left-color: var(--fill-color);\n",
              "    }\n",
              "    20% {\n",
              "      border-color: transparent;\n",
              "      border-left-color: var(--fill-color);\n",
              "      border-top-color: var(--fill-color);\n",
              "    }\n",
              "    30% {\n",
              "      border-color: transparent;\n",
              "      border-left-color: var(--fill-color);\n",
              "      border-top-color: var(--fill-color);\n",
              "      border-right-color: var(--fill-color);\n",
              "    }\n",
              "    40% {\n",
              "      border-color: transparent;\n",
              "      border-right-color: var(--fill-color);\n",
              "      border-top-color: var(--fill-color);\n",
              "    }\n",
              "    60% {\n",
              "      border-color: transparent;\n",
              "      border-right-color: var(--fill-color);\n",
              "    }\n",
              "    80% {\n",
              "      border-color: transparent;\n",
              "      border-right-color: var(--fill-color);\n",
              "      border-bottom-color: var(--fill-color);\n",
              "    }\n",
              "    90% {\n",
              "      border-color: transparent;\n",
              "      border-bottom-color: var(--fill-color);\n",
              "    }\n",
              "  }\n",
              "</style>\n",
              "\n",
              "  <script>\n",
              "    async function quickchart(key) {\n",
              "      const quickchartButtonEl =\n",
              "        document.querySelector('#' + key + ' button');\n",
              "      quickchartButtonEl.disabled = true;  // To prevent multiple clicks.\n",
              "      quickchartButtonEl.classList.add('colab-df-spinner');\n",
              "      try {\n",
              "        const charts = await google.colab.kernel.invokeFunction(\n",
              "            'suggestCharts', [key], {});\n",
              "      } catch (error) {\n",
              "        console.error('Error during call to suggestCharts:', error);\n",
              "      }\n",
              "      quickchartButtonEl.classList.remove('colab-df-spinner');\n",
              "      quickchartButtonEl.classList.add('colab-df-quickchart-complete');\n",
              "    }\n",
              "    (() => {\n",
              "      let quickchartButtonEl =\n",
              "        document.querySelector('#df-84e96d75-e330-4fa6-b3e1-91bdd05b2e19 button');\n",
              "      quickchartButtonEl.style.display =\n",
              "        google.colab.kernel.accessAllowed ? 'block' : 'none';\n",
              "    })();\n",
              "  </script>\n",
              "</div>\n",
              "\n",
              "    </div>\n",
              "  </div>\n"
            ],
            "application/vnd.google.colaboratory.intrinsic+json": {
              "type": "dataframe",
              "variable_name": "test_data",
              "summary": "{\n  \"name\": \"test_data\",\n  \"rows\": 498,\n  \"fields\": [\n    {\n      \"column\": \"sentiment\",\n      \"properties\": {\n        \"dtype\": \"number\",\n        \"std\": 1,\n        \"min\": 0,\n        \"max\": 4,\n        \"num_unique_values\": 3,\n        \"samples\": [\n          4,\n          0,\n          2\n        ],\n        \"semantic_type\": \"\",\n        \"description\": \"\"\n      }\n    },\n    {\n      \"column\": \"id\",\n      \"properties\": {\n        \"dtype\": \"number\",\n        \"std\": 2834,\n        \"min\": 3,\n        \"max\": 14076,\n        \"num_unique_values\": 498,\n        \"samples\": [\n          14046,\n          178,\n          602\n        ],\n        \"semantic_type\": \"\",\n        \"description\": \"\"\n      }\n    },\n    {\n      \"column\": \"date\",\n      \"properties\": {\n        \"dtype\": \"object\",\n        \"num_unique_values\": 498,\n        \"samples\": [\n          \"Sat Jun 13 16:23:41 UTC 2009\",\n          \"Wed May 20 02:39:28 UTC 2009\",\n          \"Mon Jun 08 20:08:26 UTC 2009\"\n        ],\n        \"semantic_type\": \"\",\n        \"description\": \"\"\n      }\n    },\n    {\n      \"column\": \"query\",\n      \"properties\": {\n        \"dtype\": \"category\",\n        \"num_unique_values\": 81,\n        \"samples\": [\n          \"lakers\",\n          \"kindle2\",\n          \"\\\"twitter api\\\"\"\n        ],\n        \"semantic_type\": \"\",\n        \"description\": \"\"\n      }\n    },\n    {\n      \"column\": \"user\",\n      \"properties\": {\n        \"dtype\": \"string\",\n        \"num_unique_values\": 490,\n        \"samples\": [\n          \"CaptainCraigos\",\n          \"jimmy_chan2009\",\n          \"TobyJuanKenobi\"\n        ],\n        \"semantic_type\": \"\",\n        \"description\": \"\"\n      }\n    },\n    {\n      \"column\": \"text\",\n      \"properties\": {\n        \"dtype\": \"string\",\n        \"num_unique_values\": 498,\n        \"samples\": [\n          \"getting ready to test out some burger receipes this weekend. Bobby Flay has some great receipes to try. Thanks Bobby.\",\n          \"Back when I worked for Nike we had one fav word : JUST DO IT! :)\",\n          \"@MMBarnhill yay, glad you got the phone! Still, damn you, AT&amp;T.\"\n        ],\n        \"semantic_type\": \"\",\n        \"description\": \"\"\n      }\n    }\n  ]\n}"
            }
          },
          "metadata": {},
          "execution_count": 14
        }
      ]
    },
    {
      "cell_type": "code",
      "metadata": {
        "id": "70F6_Qg9Nb20",
        "colab": {
          "base_uri": "https://localhost:8080/"
        },
        "outputId": "63ad28eb-ac1c-41b5-e66c-63d021b6628c"
      },
      "source": [
        "test_data.shape"
      ],
      "execution_count": 15,
      "outputs": [
        {
          "output_type": "execute_result",
          "data": {
            "text/plain": [
              "(498, 6)"
            ]
          },
          "metadata": {},
          "execution_count": 15
        }
      ]
    },
    {
      "cell_type": "code",
      "metadata": {
        "id": "4TGNfarsNkb1",
        "colab": {
          "base_uri": "https://localhost:8080/"
        },
        "outputId": "d1ef035a-d15d-44db-b3e7-827a39596697"
      },
      "source": [
        "test_data.sentiment.unique()"
      ],
      "execution_count": 16,
      "outputs": [
        {
          "output_type": "execute_result",
          "data": {
            "text/plain": [
              "array([4, 0, 2])"
            ]
          },
          "metadata": {},
          "execution_count": 16
        }
      ]
    },
    {
      "cell_type": "code",
      "metadata": {
        "id": "Wr4JUrsPNgi1",
        "colab": {
          "base_uri": "https://localhost:8080/",
          "height": 447
        },
        "outputId": "98dc6ee4-c253-4589-ee1a-e22752bdad42"
      },
      "source": [
        "sns.countplot(test_data.sentiment)"
      ],
      "execution_count": 18,
      "outputs": [
        {
          "output_type": "execute_result",
          "data": {
            "text/plain": [
              "<Axes: ylabel='count'>"
            ]
          },
          "metadata": {},
          "execution_count": 18
        },
        {
          "output_type": "display_data",
          "data": {
            "text/plain": [
              "<Figure size 640x480 with 1 Axes>"
            ],
            "image/png": "[encoded data removed]"
          },
          "metadata": {}
        }
      ]
    },
    {
      "cell_type": "markdown",
      "metadata": {
        "id": "6CsZKJx1-2Ep"
      },
      "source": [
        "## Pré-processamento"
      ]
    },
    {
      "cell_type": "markdown",
      "metadata": {
        "id": "FLWayJ-5-7nN"
      },
      "source": [
        "## Limpeza da base de dados"
      ]
    },
    {
      "cell_type": "code",
      "metadata": {
        "id": "hgcKJ8jo2IAU"
      },
      "source": [
        "data = train_data"
      ],
      "execution_count": 20,
      "outputs": []
    },
    {
      "cell_type": "code",
      "metadata": {
        "id": "RpgAD42t2VEm"
      },
      "source": [
        "data.drop(['id', 'date', 'query', 'user'], axis = 1, inplace=True) # apagar"
      ],
      "execution_count": 21,
      "outputs": []
    },
    {
      "cell_type": "code",
      "metadata": {
        "id": "-rn747Zk2gwp",
        "colab": {
          "base_uri": "https://localhost:8080/",
          "height": 206
        },
        "outputId": "609e83e3-8bf7-41dc-be2e-ddd28e7b6e4a"
      },
      "source": [
        "data.head()"
      ],
      "execution_count": 22,
      "outputs": [
        {
          "output_type": "execute_result",
          "data": {
            "text/plain": [
              "   sentiment                                               text\n",
              "0          0  @switchfoot http://twitpic.com/2y1zl - Awww, t...\n",
              "1          0  is upset that he can't update his Facebook by ...\n",
              "2          0  @Kenichan I dived many times for the ball. Man...\n",
              "3          0    my whole body feels itchy and like its on fire \n",
              "4          0  @nationwideclass no, it's not behaving at all...."
            ],
            "text/html": [
              "\n",
              "  <div id=\"df-a89e250f-ec12-4545-b38a-a20a939670b5\" class=\"colab-df-container\">\n",
              "    <div>\n",
              "<style scoped>\n",
              "    .dataframe tbody tr th:only-of-type {\n",
              "        vertical-align: middle;\n",
              "    }\n",
              "\n",
              "    .dataframe tbody tr th {\n",
              "        vertical-align: top;\n",
              "    }\n",
              "\n",
              "    .dataframe thead th {\n",
              "        text-align: right;\n",
              "    }\n",
              "</style>\n",
              "<table border=\"1\" class=\"dataframe\">\n",
              "  <thead>\n",
              "    <tr style=\"text-align: right;\">\n",
              "      <th></th>\n",
              "      <th>sentiment</th>\n",
              "      <th>text</th>\n",
              "    </tr>\n",
              "  </thead>\n",
              "  <tbody>\n",
              "    <tr>\n",
              "      <th>0</th>\n",
              "      <td>0</td>\n",
              "      <td>@switchfoot http://twitpic.com/2y1zl - Awww, t...</td>\n",
              "    </tr>\n",
              "    <tr>\n",
              "      <th>1</th>\n",
              "      <td>0</td>\n",
              "      <td>is upset that he can't update his Facebook by ...</td>\n",
              "    </tr>\n",
              "    <tr>\n",
              "      <th>2</th>\n",
              "      <td>0</td>\n",
              "      <td>@Kenichan I dived many times for the ball. Man...</td>\n",
              "    </tr>\n",
              "    <tr>\n",
              "      <th>3</th>\n",
              "      <td>0</td>\n",
              "      <td>my whole body feels itchy and like its on fire</td>\n",
              "    </tr>\n",
              "    <tr>\n",
              "      <th>4</th>\n",
              "      <td>0</td>\n",
              "      <td>@nationwideclass no, it's not behaving at all....</td>\n",
              "    </tr>\n",
              "  </tbody>\n",
              "</table>\n",
              "</div>\n",
              "    <div class=\"colab-df-buttons\">\n",
              "\n",
              "  <div class=\"colab-df-container\">\n",
              "    <button class=\"colab-df-convert\" onclick=\"convertToInteractive('df-a89e250f-ec12-4545-b38a-a20a939670b5')\"\n",
              "            title=\"Convert this dataframe to an interactive table.\"\n",
              "            style=\"display:none;\">\n",
              "\n",
              "  <svg xmlns=\"http://www.w3.org/2000/svg\" height=\"24px\" viewBox=\"0 -960 960 960\">\n",
              "    <path d=\"M120-120v-720h720v720H120Zm60-500h600v-160H180v160Zm220 220h160v-160H400v160Zm0 220h160v-160H400v160ZM180-400h160v-160H180v160Zm440 0h160v-160H620v160ZM180-180h160v-160H180v160Zm440 0h160v-160H620v160Z\"/>\n",
              "  </svg>\n",
              "    </button>\n",
              "\n",
              "  <style>\n",
              "    .colab-df-container {\n",
              "      display:flex;\n",
              "      gap: 12px;\n",
              "    }\n",
              "\n",
              "    .colab-df-convert {\n",
              "      background-color: #E8F0FE;\n",
              "      border: none;\n",
              "      border-radius: 50%;\n",
              "      cursor: pointer;\n",
              "      display: none;\n",
              "      fill: #1967D2;\n",
              "      height: 32px;\n",
              "      padding: 0 0 0 0;\n",
              "      width: 32px;\n",
              "    }\n",
              "\n",
              "    .colab-df-convert:hover {\n",
              "      background-color: #E2EBFA;\n",
              "      box-shadow: 0px 1px 2px rgba(60, 64, 67, 0.3), 0px 1px 3px 1px rgba(60, 64, 67, 0.15);\n",
              "      fill: #174EA6;\n",
              "    }\n",
              "\n",
              "    .colab-df-buttons div {\n",
              "      margin-bottom: 4px;\n",
              "    }\n",
              "\n",
              "    [theme=dark] .colab-df-convert {\n",
              "      background-color: #3B4455;\n",
              "      fill: #D2E3FC;\n",
              "    }\n",
              "\n",
              "    [theme=dark] .colab-df-convert:hover {\n",
              "      background-color: #434B5C;\n",
              "      box-shadow: 0px 1px 3px 1px rgba(0, 0, 0, 0.15);\n",
              "      filter: drop-shadow(0px 1px 2px rgba(0, 0, 0, 0.3));\n",
              "      fill: #FFFFFF;\n",
              "    }\n",
              "  </style>\n",
              "\n",
              "    <script>\n",
              "      const buttonEl =\n",
              "        document.querySelector('#df-a89e250f-ec12-4545-b38a-a20a939670b5 button.colab-df-convert');\n",
              "      buttonEl.style.display =\n",
              "        google.colab.kernel.accessAllowed ? 'block' : 'none';\n",
              "\n",
              "      async function convertToInteractive(key) {\n",
              "        const element = document.querySelector('#df-a89e250f-ec12-4545-b38a-a20a939670b5');\n",
              "        const dataTable =\n",
              "          await google.colab.kernel.invokeFunction('convertToInteractive',\n",
              "                                                    [key], {});\n",
              "        if (!dataTable) return;\n",
              "\n",
              "        const docLinkHtml = 'Like what you see? Visit the ' +\n",
              "          '<a target=\"_blank\" href=https://colab.research.google.com/notebooks/data_table.ipynb>data table notebook</a>'\n",
              "          + ' to learn more about interactive tables.';\n",
              "        element.innerHTML = '';\n",
              "        dataTable['output_type'] = 'display_data';\n",
              "        await google.colab.output.renderOutput(dataTable, element);\n",
              "        const docLink = document.createElement('div');\n",
              "        docLink.innerHTML = docLinkHtml;\n",
              "        element.appendChild(docLink);\n",
              "      }\n",
              "    </script>\n",
              "  </div>\n",
              "\n",
              "\n",
              "<div id=\"df-ac16d8fb-9e28-45f3-be44-392c518ae241\">\n",
              "  <button class=\"colab-df-quickchart\" onclick=\"quickchart('df-ac16d8fb-9e28-45f3-be44-392c518ae241')\"\n",
              "            title=\"Suggest charts\"\n",
              "            style=\"display:none;\">\n",
              "\n",
              "<svg xmlns=\"http://www.w3.org/2000/svg\" height=\"24px\"viewBox=\"0 0 24 24\"\n",
              "     width=\"24px\">\n",
              "    <g>\n",
              "        <path d=\"M19 3H5c-1.1 0-2 .9-2 2v14c0 1.1.9 2 2 2h14c1.1 0 2-.9 2-2V5c0-1.1-.9-2-2-2zM9 17H7v-7h2v7zm4 0h-2V7h2v10zm4 0h-2v-4h2v4z\"/>\n",
              "    </g>\n",
              "</svg>\n",
              "  </button>\n",
              "\n",
              "<style>\n",
              "  .colab-df-quickchart {\n",
              "      --bg-color: #E8F0FE;\n",
              "      --fill-color: #1967D2;\n",
              "      --hover-bg-color: #E2EBFA;\n",
              "      --hover-fill-color: #174EA6;\n",
              "      --disabled-fill-color: #AAA;\n",
              "      --disabled-bg-color: #DDD;\n",
              "  }\n",
              "\n",
              "  [theme=dark] .colab-df-quickchart {\n",
              "      --bg-color: #3B4455;\n",
              "      --fill-color: #D2E3FC;\n",
              "      --hover-bg-color: #434B5C;\n",
              "      --hover-fill-color: #FFFFFF;\n",
              "      --disabled-bg-color: #3B4455;\n",
              "      --disabled-fill-color: #666;\n",
              "  }\n",
              "\n",
              "  .colab-df-quickchart {\n",
              "    background-color: var(--bg-color);\n",
              "    border: none;\n",
              "    border-radius: 50%;\n",
              "    cursor: pointer;\n",
              "    display: none;\n",
              "    fill: var(--fill-color);\n",
              "    height: 32px;\n",
              "    padding: 0;\n",
              "    width: 32px;\n",
              "  }\n",
              "\n",
              "  .colab-df-quickchart:hover {\n",
              "    background-color: var(--hover-bg-color);\n",
              "    box-shadow: 0 1px 2px rgba(60, 64, 67, 0.3), 0 1px 3px 1px rgba(60, 64, 67, 0.15);\n",
              "    fill: var(--button-hover-fill-color);\n",
              "  }\n",
              "\n",
              "  .colab-df-quickchart-complete:disabled,\n",
              "  .colab-df-quickchart-complete:disabled:hover {\n",
              "    background-color: var(--disabled-bg-color);\n",
              "    fill: var(--disabled-fill-color);\n",
              "    box-shadow: none;\n",
              "  }\n",
              "\n",
              "  .colab-df-spinner {\n",
              "    border: 2px solid var(--fill-color);\n",
              "    border-color: transparent;\n",
              "    border-bottom-color: var(--fill-color);\n",
              "    animation:\n",
              "      spin 1s steps(1) infinite;\n",
              "  }\n",
              "\n",
              "  @keyframes spin {\n",
              "    0% {\n",
              "      border-color: transparent;\n",
              "      border-bottom-color: var(--fill-color);\n",
              "      border-left-color: var(--fill-color);\n",
              "    }\n",
              "    20% {\n",
              "      border-color: transparent;\n",
              "      border-left-color: var(--fill-color);\n",
              "      border-top-color: var(--fill-color);\n",
              "    }\n",
              "    30% {\n",
              "      border-color: transparent;\n",
              "      border-left-color: var(--fill-color);\n",
              "      border-top-color: var(--fill-color);\n",
              "      border-right-color: var(--fill-color);\n",
              "    }\n",
              "    40% {\n",
              "      border-color: transparent;\n",
              "      border-right-color: var(--fill-color);\n",
              "      border-top-color: var(--fill-color);\n",
              "    }\n",
              "    60% {\n",
              "      border-color: transparent;\n",
              "      border-right-color: var(--fill-color);\n",
              "    }\n",
              "    80% {\n",
              "      border-color: transparent;\n",
              "      border-right-color: var(--fill-color);\n",
              "      border-bottom-color: var(--fill-color);\n",
              "    }\n",
              "    90% {\n",
              "      border-color: transparent;\n",
              "      border-bottom-color: var(--fill-color);\n",
              "    }\n",
              "  }\n",
              "</style>\n",
              "\n",
              "  <script>\n",
              "    async function quickchart(key) {\n",
              "      const quickchartButtonEl =\n",
              "        document.querySelector('#' + key + ' button');\n",
              "      quickchartButtonEl.disabled = true;  // To prevent multiple clicks.\n",
              "      quickchartButtonEl.classList.add('colab-df-spinner');\n",
              "      try {\n",
              "        const charts = await google.colab.kernel.invokeFunction(\n",
              "            'suggestCharts', [key], {});\n",
              "      } catch (error) {\n",
              "        console.error('Error during call to suggestCharts:', error);\n",
              "      }\n",
              "      quickchartButtonEl.classList.remove('colab-df-spinner');\n",
              "      quickchartButtonEl.classList.add('colab-df-quickchart-complete');\n",
              "    }\n",
              "    (() => {\n",
              "      let quickchartButtonEl =\n",
              "        document.querySelector('#df-ac16d8fb-9e28-45f3-be44-392c518ae241 button');\n",
              "      quickchartButtonEl.style.display =\n",
              "        google.colab.kernel.accessAllowed ? 'block' : 'none';\n",
              "    })();\n",
              "  </script>\n",
              "</div>\n",
              "\n",
              "    </div>\n",
              "  </div>\n"
            ],
            "application/vnd.google.colaboratory.intrinsic+json": {
              "type": "dataframe",
              "variable_name": "data"
            }
          },
          "metadata": {},
          "execution_count": 22
        }
      ]
    },
    {
      "cell_type": "code",
      "metadata": {
        "id": "ufHeTh612mev"
      },
      "source": [
        "X = data.iloc[:, 1].values"
      ],
      "execution_count": 43,
      "outputs": []
    },
    {
      "cell_type": "code",
      "metadata": {
        "id": "8i6-FOPH2zrS",
        "colab": {
          "base_uri": "https://localhost:8080/"
        },
        "outputId": "5ff72e4d-ac31-444e-89cc-f4e9ecb0dd5d"
      },
      "source": [
        "X"
      ],
      "execution_count": 44,
      "outputs": [
        {
          "output_type": "execute_result",
          "data": {
            "text/plain": [
              "array([\"@switchfoot http://twitpic.com/2y1zl - Awww, that's a bummer.  You shoulda got David Carr of Third Day to do it. ;D\",\n",
              "       \"is upset that he can't update his Facebook by texting it... and might cry as a result  School today also. Blah!\",\n",
              "       '@Kenichan I dived many times for the ball. Managed to save 50%  The rest go out of bounds',\n",
              "       ..., 'Are you ready for your MoJo Makeover? Ask me for details ',\n",
              "       'Happy 38th Birthday to my boo of alll time!!! Tupac Amaru Shakur ',\n",
              "       'happy #charitytuesday @theNSPCC @SparksCharity @SpeakingUpH4H '],\n",
              "      dtype=object)"
            ]
          },
          "metadata": {},
          "execution_count": 44
        }
      ]
    },
    {
      "cell_type": "code",
      "metadata": {
        "id": "vxb9dUzY22O7",
        "colab": {
          "base_uri": "https://localhost:8080/"
        },
        "outputId": "10384376-e684-463e-b797-fd58c94ac28e"
      },
      "source": [
        "X.shape"
      ],
      "execution_count": 45,
      "outputs": [
        {
          "output_type": "execute_result",
          "data": {
            "text/plain": [
              "(1600000,)"
            ]
          },
          "metadata": {},
          "execution_count": 45
        }
      ]
    },
    {
      "cell_type": "code",
      "metadata": {
        "id": "G1xQNeQC253m",
        "colab": {
          "base_uri": "https://localhost:8080/"
        },
        "outputId": "7a491819-178b-4769-e08c-cfaa53f3c1ca"
      },
      "source": [
        "type(X)"
      ],
      "execution_count": 46,
      "outputs": [
        {
          "output_type": "execute_result",
          "data": {
            "text/plain": [
              "numpy.ndarray"
            ]
          },
          "metadata": {},
          "execution_count": 46
        }
      ]
    },
    {
      "cell_type": "code",
      "metadata": {
        "id": "AubTH1vn2_FX",
        "colab": {
          "base_uri": "https://localhost:8080/"
        },
        "outputId": "c8aed88a-3236-4211-9831-464906b66faa"
      },
      "source": [
        "y = data.iloc[:, 0].values\n",
        "y"
      ],
      "execution_count": 47,
      "outputs": [
        {
          "output_type": "execute_result",
          "data": {
            "text/plain": [
              "array([0, 0, 0, ..., 4, 4, 4])"
            ]
          },
          "metadata": {},
          "execution_count": 47
        }
      ]
    },
    {
      "cell_type": "code",
      "metadata": {
        "id": "w_b_QPYQ3Ep-"
      },
      "source": [
        "from sklearn.model_selection import train_test_split\n",
        "X, _, y, _ = train_test_split(X, y, test_size = 0.85, stratify = y)"
      ],
      "execution_count": 48,
      "outputs": []
    },
    {
      "cell_type": "code",
      "metadata": {
        "id": "k2f37zL63qWd",
        "colab": {
          "base_uri": "https://localhost:8080/"
        },
        "outputId": "25cd3647-248b-4802-b156-0a746e9800e4"
      },
      "source": [
        "X.shape"
      ],
      "execution_count": 49,
      "outputs": [
        {
          "output_type": "execute_result",
          "data": {
            "text/plain": [
              "(240000,)"
            ]
          },
          "metadata": {},
          "execution_count": 49
        }
      ]
    },
    {
      "cell_type": "code",
      "metadata": {
        "id": "XJm3bSbL3t6M",
        "colab": {
          "base_uri": "https://localhost:8080/"
        },
        "outputId": "14d61d70-df73-4742-eb38-f2e10bd2cddc"
      },
      "source": [
        "y.shape"
      ],
      "execution_count": 50,
      "outputs": [
        {
          "output_type": "execute_result",
          "data": {
            "text/plain": [
              "(240000,)"
            ]
          },
          "metadata": {},
          "execution_count": 50
        }
      ]
    },
    {
      "cell_type": "code",
      "metadata": {
        "id": "wt7qG0FC3xMJ",
        "colab": {
          "base_uri": "https://localhost:8080/"
        },
        "outputId": "e05d1139-1157-48fc-e84a-0fde234614a9"
      },
      "source": [
        "unique, counts = np.unique(y, return_counts=True)\n",
        "unique, counts"
      ],
      "execution_count": 51,
      "outputs": [
        {
          "output_type": "execute_result",
          "data": {
            "text/plain": [
              "(array([0, 4]), array([120000, 120000]))"
            ]
          },
          "metadata": {},
          "execution_count": 51
        }
      ]
    },
    {
      "cell_type": "markdown",
      "source": [
        "## Limpeza dos textos"
      ],
      "metadata": {
        "id": "7IATaynOItVw"
      }
    },
    {
      "cell_type": "code",
      "metadata": {
        "id": "H7FmwPT14sW-"
      },
      "source": [
        "\n",
        "def clean_tweets(tweet):\n",
        "  tweet = BeautifulSoup(tweet, 'lxml').get_text()\n",
        "  tweet = re.sub(r\"@[A-Za-z0-9]+\", ' ', tweet) # retiar o nome do usuario\n",
        "  tweet = re.sub(r\"https?://[A-Za-z0-9./]+\", ' ', tweet) # retirar a url\n",
        "  tweet = re.sub(r\"[^a-zA-Z.!?]\", ' ', tweet)\n",
        "  tweet = re.sub(r\" +\", ' ', tweet) # remover os espaços\n",
        "  return tweet"
      ],
      "execution_count": 57,
      "outputs": []
    },
    {
      "cell_type": "code",
      "metadata": {
        "id": "cHmUE8DZOOUR"
      },
      "source": [
        "text = \"@switchfoot http://twitpic.com/2y1zl - Awww, that's a bummer.  2 You shoulda got David Carr of Third Day to do it. ;D\""
      ],
      "execution_count": 54,
      "outputs": []
    },
    {
      "cell_type": "code",
      "metadata": {
        "id": "MP-hnjvy5BIC",
        "colab": {
          "base_uri": "https://localhost:8080/",
          "height": 36
        },
        "outputId": "81d1bb87-3302-4ab1-df2a-88169b4300d8"
      },
      "source": [
        "text = clean_tweets(text)\n",
        "text"
      ],
      "execution_count": 56,
      "outputs": [
        {
          "output_type": "execute_result",
          "data": {
            "text/plain": [
              "'Awww that s a bummer. You shoulda got David Carr of Third Day to do it. D'"
            ],
            "application/vnd.google.colaboratory.intrinsic+json": {
              "type": "string"
            }
          },
          "metadata": {},
          "execution_count": 56
        }
      ]
    },
    {
      "cell_type": "markdown",
      "source": [
        "## Pré-Processamento Adicional\n",
        "\n",
        "- remoção das Stopwords"
      ],
      "metadata": {
        "id": "K7hNME0bK2x5"
      }
    },
    {
      "cell_type": "code",
      "metadata": {
        "id": "hRBQX0f27WDf",
        "colab": {
          "base_uri": "https://localhost:8080/"
        },
        "outputId": "d9e60500-0230-4fc3-9e0e-c7abbcde2e7d"
      },
      "source": [
        "nlp = sp.load(\"en_core_web_sm\")\n",
        "nlp"
      ],
      "execution_count": 59,
      "outputs": [
        {
          "output_type": "execute_result",
          "data": {
            "text/plain": [
              "<spacy.lang.en.English at 0x7a951d13c040>"
            ]
          },
          "metadata": {},
          "execution_count": 59
        }
      ]
    },
    {
      "cell_type": "code",
      "metadata": {
        "id": "as-SxDtI7sBP"
      },
      "source": [
        "stop_words = sp.lang.en.STOP_WORDS"
      ],
      "execution_count": 60,
      "outputs": []
    },
    {
      "cell_type": "code",
      "metadata": {
        "id": "s3O0rC3u7xyN"
      },
      "source": [
        "print(stop_words)"
      ],
      "execution_count": null,
      "outputs": []
    },
    {
      "cell_type": "code",
      "metadata": {
        "id": "5bYoV0pD70yQ",
        "colab": {
          "base_uri": "https://localhost:8080/"
        },
        "outputId": "ce7f6f06-9271-432d-b767-98eef3472e85"
      },
      "source": [
        "len(stop_words)"
      ],
      "execution_count": 62,
      "outputs": [
        {
          "output_type": "execute_result",
          "data": {
            "text/plain": [
              "326"
            ]
          },
          "metadata": {},
          "execution_count": 62
        }
      ]
    },
    {
      "cell_type": "code",
      "metadata": {
        "id": "vGHvLXiJ9qQC",
        "colab": {
          "base_uri": "https://localhost:8080/",
          "height": 36
        },
        "outputId": "ed985c80-f4f4-47d1-da71-de81c6308048"
      },
      "source": [
        "string.punctuation"
      ],
      "execution_count": 66,
      "outputs": [
        {
          "output_type": "execute_result",
          "data": {
            "text/plain": [
              "'!\"#$%&\\'()*+,-./:;<=>?@[\\\\]^_`{|}~'"
            ],
            "application/vnd.google.colaboratory.intrinsic+json": {
              "type": "string"
            }
          },
          "metadata": {},
          "execution_count": 66
        }
      ]
    },
    {
      "cell_type": "code",
      "metadata": {
        "id": "Zk-HcIoT7-hh"
      },
      "source": [
        "def clean_tweets2(tweet):\n",
        "  tweet = tweet.lower() # conversão para minusculas\n",
        "  document = nlp(tweet)\n",
        "\n",
        "  words = []\n",
        "  for token in document:\n",
        "    words.append(token.text)\n",
        "\n",
        "  words = [word for word in words if word not in stop_words and word not in string.punctuation] # remoção das stopwords\n",
        "  words = ' '.join([str(element) for element in words]) # retornar o texto como string\n",
        "\n",
        "  return words"
      ],
      "execution_count": 73,
      "outputs": []
    },
    {
      "cell_type": "code",
      "metadata": {
        "id": "kCereV1KRpci"
      },
      "source": [
        "# Awww that's a bummer. You shoulda got David Carr of Third Day to do it. D\""
      ],
      "execution_count": null,
      "outputs": []
    },
    {
      "cell_type": "code",
      "metadata": {
        "id": "JNvx3x408hTK",
        "colab": {
          "base_uri": "https://localhost:8080/",
          "height": 36
        },
        "outputId": "43c08c69-1076-47c0-a94d-0036acacbd04"
      },
      "source": [
        "text2 = clean_tweets2(text)\n",
        "text2"
      ],
      "execution_count": 74,
      "outputs": [
        {
          "output_type": "execute_result",
          "data": {
            "text/plain": [
              "'awww s bummer shoulda got david carr day d'"
            ],
            "application/vnd.google.colaboratory.intrinsic+json": {
              "type": "string"
            }
          },
          "metadata": {},
          "execution_count": 74
        }
      ]
    },
    {
      "cell_type": "code",
      "metadata": {
        "id": "L6eJcZog-Ze1",
        "colab": {
          "base_uri": "https://localhost:8080/"
        },
        "outputId": "e2ef129e-8035-4388-e0c1-1be97cf88775"
      },
      "source": [
        "data_clean = [clean_tweets2(clean_tweets(tweet)) for tweet in X]"
      ],
      "execution_count": 75,
      "outputs": [
        {
          "output_type": "stream",
          "name": "stderr",
          "text": [
            "<ipython-input-57-b1969230b9e0>:2: MarkupResemblesLocatorWarning: The input looks more like a filename than markup. You may want to open this file and pass the filehandle into Beautiful Soup.\n",
            "  tweet = BeautifulSoup(tweet, 'lxml').get_text()\n"
          ]
        }
      ]
    },
    {
      "cell_type": "markdown",
      "source": [
        "## 44 minutos para executar"
      ],
      "metadata": {
        "id": "OSR7CVgWX2fU"
      }
    },
    {
      "cell_type": "code",
      "metadata": {
        "id": "0NwcYJTLJ1hq",
        "colab": {
          "base_uri": "https://localhost:8080/"
        },
        "outputId": "c765e1c9-6d41-486d-f611-2c64ddf9ba83"
      },
      "source": [
        "for _ in range(10):\n",
        "  print(data_clean[random.randint(0, len(data_clean) - 1)])"
      ],
      "execution_count": 77,
      "outputs": [
        {
          "output_type": "stream",
          "name": "stdout",
          "text": [
            "wants maddie\n",
            "  nooooooooooo nt want\n",
            "  ok suprises\n",
            "t believe m s getting light outside ... don t wanna bed\n",
            "  ish guys try look ish sad\n",
            "  good deal brother tibco b game avc weekend plans changed enjoy france don t cu\n",
            "  ll try aenough noise er stench try twitterville busy\n",
            "m gone twitter goodnight ..\n",
            "way home icha s birthday dinner happy birthday ichalinaaa\n",
            "  pushin b c evntually ull look realize uve tunnel vision says\n"
          ]
        }
      ]
    },
    {
      "cell_type": "code",
      "metadata": {
        "id": "NHDdk6OyKPTF"
      },
      "source": [
        "data_labels = y"
      ],
      "execution_count": 78,
      "outputs": []
    },
    {
      "cell_type": "code",
      "metadata": {
        "id": "sCwBVu_-KS6x"
      },
      "source": [
        "data_labels[data_labels == 4] = 1 # transformando 4 em 1 porque usamos uma função sigmóide"
      ],
      "execution_count": 79,
      "outputs": []
    },
    {
      "cell_type": "code",
      "metadata": {
        "id": "HnEu3ydNKdtW",
        "colab": {
          "base_uri": "https://localhost:8080/"
        },
        "outputId": "681af907-dd9a-4ad0-c092-e760f4d214b5"
      },
      "source": [
        "data_labels"
      ],
      "execution_count": 80,
      "outputs": [
        {
          "output_type": "execute_result",
          "data": {
            "text/plain": [
              "array([0, 0, 0, ..., 0, 1, 1])"
            ]
          },
          "metadata": {},
          "execution_count": 80
        }
      ]
    },
    {
      "cell_type": "code",
      "metadata": {
        "id": "amKqM8FjKgT-",
        "colab": {
          "base_uri": "https://localhost:8080/"
        },
        "outputId": "9ea82b70-f168-4838-f427-a4c7bb0247f6"
      },
      "source": [
        "np.unique(data_labels)"
      ],
      "execution_count": 81,
      "outputs": [
        {
          "output_type": "execute_result",
          "data": {
            "text/plain": [
              "array([0, 1])"
            ]
          },
          "metadata": {},
          "execution_count": 81
        }
      ]
    },
    {
      "cell_type": "markdown",
      "metadata": {
        "id": "GTKZ5fUh_Kxz"
      },
      "source": [
        "### Tokenização - tranformar as palavras em números"
      ]
    },
    {
      "cell_type": "code",
      "metadata": {
        "id": "8XI8WWOFNiJ8",
        "colab": {
          "base_uri": "https://localhost:8080/"
        },
        "outputId": "003eae5c-698b-438f-8644-e1442f9d4a0e"
      },
      "source": [
        "2**16"
      ],
      "execution_count": 82,
      "outputs": [
        {
          "output_type": "execute_result",
          "data": {
            "text/plain": [
              "65536"
            ]
          },
          "metadata": {},
          "execution_count": 82
        }
      ]
    },
    {
      "cell_type": "code",
      "metadata": {
        "id": "s55Dd-UqNncW",
        "colab": {
          "base_uri": "https://localhost:8080/"
        },
        "outputId": "2cdd1f92-b11b-4975-9f5e-867ee5d4f3da"
      },
      "source": [
        "import math\n",
        "math.pow(2, 16)"
      ],
      "execution_count": 83,
      "outputs": [
        {
          "output_type": "execute_result",
          "data": {
            "text/plain": [
              "65536.0"
            ]
          },
          "metadata": {},
          "execution_count": 83
        }
      ]
    },
    {
      "cell_type": "code",
      "metadata": {
        "id": "dwE2jYo2MkaZ"
      },
      "source": [
        "#tokenizer = tfds.features.text.SubwordTextEncoder.build_from_corpus(data_clean, target_vocab_size=2**16)\n",
        "tokenizer = tfds.deprecated.text.SubwordTextEncoder.build_from_corpus(data_clean, target_vocab_size=2**16)"
      ],
      "execution_count": 85,
      "outputs": []
    },
    {
      "cell_type": "code",
      "metadata": {
        "id": "CV2y2U1gOl2W",
        "colab": {
          "base_uri": "https://localhost:8080/"
        },
        "outputId": "974b8606-c11d-4d6f-9abd-4617d1baf3f3"
      },
      "source": [
        "tokenizer.vocab_size"
      ],
      "execution_count": 86,
      "outputs": [
        {
          "output_type": "execute_result",
          "data": {
            "text/plain": [
              "52843"
            ]
          },
          "metadata": {},
          "execution_count": 86
        }
      ]
    },
    {
      "cell_type": "code",
      "metadata": {
        "id": "FG1e9KoWOvx0"
      },
      "source": [
        "print(tokenizer.subwords)"
      ],
      "execution_count": null,
      "outputs": []
    },
    {
      "cell_type": "code",
      "metadata": {
        "id": "T4rCT4zrPF1P",
        "colab": {
          "base_uri": "https://localhost:8080/"
        },
        "outputId": "c21985a0-914a-48b9-bfe7-895d775d9638"
      },
      "source": [
        "ids = tokenizer.encode('i am happy')\n",
        "ids"
      ],
      "execution_count": 88,
      "outputs": [
        {
          "output_type": "execute_result",
          "data": {
            "text/plain": [
              "[262, 4789, 371]"
            ]
          },
          "metadata": {},
          "execution_count": 88
        }
      ]
    },
    {
      "cell_type": "code",
      "metadata": {
        "id": "4H4_8IzRPSlB",
        "colab": {
          "base_uri": "https://localhost:8080/",
          "height": 36
        },
        "outputId": "b35c2361-2b18-45cf-e038-2741336ca1e1"
      },
      "source": [
        "text = tokenizer.decode(ids)\n",
        "text"
      ],
      "execution_count": 89,
      "outputs": [
        {
          "output_type": "execute_result",
          "data": {
            "text/plain": [
              "'i am happy'"
            ],
            "application/vnd.google.colaboratory.intrinsic+json": {
              "type": "string"
            }
          },
          "metadata": {},
          "execution_count": 89
        }
      ]
    },
    {
      "cell_type": "code",
      "metadata": {
        "id": "Wix-FNg1PYij"
      },
      "source": [
        "data_inputs = [tokenizer.encode(sentence) for sentence in data_clean]"
      ],
      "execution_count": 90,
      "outputs": []
    },
    {
      "cell_type": "code",
      "metadata": {
        "id": "S5DEe4p3Pi3n",
        "colab": {
          "base_uri": "https://localhost:8080/"
        },
        "outputId": "128fa254-dd4b-4bf3-eb99-44f5ebf2ce5c"
      },
      "source": [
        "for _ in range(10):\n",
        "  print(data_inputs[random.randint(0, len(data_inputs) - 1)])"
      ],
      "execution_count": 91,
      "outputs": [
        {
          "output_type": "stream",
          "name": "stdout",
          "text": [
            "[1, 17036, 1987, 19, 379, 71, 878, 4417, 2127, 7518]\n",
            "[1, 94, 1002, 1709]\n",
            "[1, 5083, 2, 227, 6, 6, 1131, 2982, 3425, 403, 16]\n",
            "[1, 50, 1763, 3, 69, 1608, 21, 135, 8, 14, 52703]\n",
            "[1, 132, 5267]\n",
            "[3, 767, 377, 1654, 5, 22555, 3560, 1347, 57, 4, 23, 252, 1896]\n",
            "[2550, 1439, 21, 100, 2093]\n",
            "[1, 117, 3, 518, 482, 303, 4239, 845, 19149, 52702, 52633]\n",
            "[1, 3, 96, 5057]\n",
            "[1, 272, 820, 757, 1396, 859, 2796, 276, 781, 201, 4, 4545, 1162, 16]\n"
          ]
        }
      ]
    },
    {
      "cell_type": "markdown",
      "metadata": {
        "id": "Ysb2uib8n6b3"
      },
      "source": [
        "### Padding"
      ]
    },
    {
      "cell_type": "code",
      "metadata": {
        "id": "xTRmL5MAP4iT",
        "colab": {
          "base_uri": "https://localhost:8080/"
        },
        "outputId": "9cdd521b-8184-4f64-ab58-95acc5ccd8bc"
      },
      "source": [
        "max_len = max([len(sentence) for sentence in data_inputs]) #setença que tem mais caracter\n",
        "max_len"
      ],
      "execution_count": 93,
      "outputs": [
        {
          "output_type": "execute_result",
          "data": {
            "text/plain": [
              "54"
            ]
          },
          "metadata": {},
          "execution_count": 93
        }
      ]
    },
    {
      "cell_type": "code",
      "metadata": {
        "id": "lT02JMV1QWLZ"
      },
      "source": [
        "data_inputs = tf.keras.preprocessing.sequence.pad_sequences(data_inputs,\n",
        "                                                            value = 0,\n",
        "                                                            padding = 'post',\n",
        "                                                            maxlen=max_len)"
      ],
      "execution_count": 94,
      "outputs": []
    },
    {
      "cell_type": "code",
      "metadata": {
        "id": "E5X5g9IPQtZV",
        "colab": {
          "base_uri": "https://localhost:8080/"
        },
        "outputId": "f859e64c-5a0d-422f-dfcf-274dd13cada4"
      },
      "source": [
        "# retornando a setença com os paddings\n",
        "for _ in range(10):\n",
        "  print(data_inputs[random.randint(0, len(data_inputs) - 1)])"
      ],
      "execution_count": 96,
      "outputs": [
        {
          "output_type": "stream",
          "name": "stdout",
          "text": [
            "[    1    59   109   155  1369  3376     8   274   360 11645     0     0\n",
            "     0     0     0     0     0     0     0     0     0     0     0     0\n",
            "     0     0     0     0     0     0     0     0     0     0     0     0\n",
            "     0     0     0     0     0     0     0     0     0     0     0     0\n",
            "     0     0     0     0     0     0]\n",
            "[    1  9129     7 47400     2 10514   490    93     0     0     0     0\n",
            "     0     0     0     0     0     0     0     0     0     0     0     0\n",
            "     0     0     0     0     0     0     0     0     0     0     0     0\n",
            "     0     0     0     0     0     0     0     0     0     0     0     0\n",
            "     0     0     0     0     0     0]\n",
            "[    1     3    59    77   182    92   463     2  1112    15    12    44\n",
            "    40   112   188    55 28833     0     0     0     0     0     0     0\n",
            "     0     0     0     0     0     0     0     0     0     0     0     0\n",
            "     0     0     0     0     0     0     0     0     0     0     0     0\n",
            "     0     0     0     0     0     0]\n",
            "[ 107   61   73 2600 3966 3218    0    0    0    0    0    0    0    0\n",
            "    0    0    0    0    0    0    0    0    0    0    0    0    0    0\n",
            "    0    0    0    0    0    0    0    0    0    0    0    0    0    0\n",
            "    0    0    0    0    0    0    0    0    0    0    0    0]\n",
            "[  66   70   91  240  396   54   41   12 1560  489    0    0    0    0\n",
            "    0    0    0    0    0    0    0    0    0    0    0    0    0    0\n",
            "    0    0    0    0    0    0    0    0    0    0    0    0    0    0\n",
            "    0    0    0    0    0    0    0    0    0    0    0    0]\n",
            "[   1   33  445 3260    3   11  811  415    0    0    0    0    0    0\n",
            "    0    0    0    0    0    0    0    0    0    0    0    0    0    0\n",
            "    0    0    0    0    0    0    0    0    0    0    0    0    0    0\n",
            "    0    0    0    0    0    0    0    0    0    0    0    0]\n",
            "[    1 51581     3  1012  2737  1484    15  5826   923     0     0     0\n",
            "     0     0     0     0     0     0     0     0     0     0     0     0\n",
            "     0     0     0     0     0     0     0     0     0     0     0     0\n",
            "     0     0     0     0     0     0     0     0     0     0     0     0\n",
            "     0     0     0     0     0     0]\n",
            "[  1   3 953  62   0   0   0   0   0   0   0   0   0   0   0   0   0   0\n",
            "   0   0   0   0   0   0   0   0   0   0   0   0   0   0   0   0   0   0\n",
            "   0   0   0   0   0   0   0   0   0   0   0   0   0   0   0   0   0   0]\n",
            "[  178  3579     4    64   419     3   178     4   178   419    95     4\n",
            "  3517   244  6583  1206 52704     0     0     0     0     0     0     0\n",
            "     0     0     0     0     0     0     0     0     0     0     0     0\n",
            "     0     0     0     0     0     0     0     0     0     0     0     0\n",
            "     0     0     0     0     0     0]\n",
            "[   1 6621    0    0    0    0    0    0    0    0    0    0    0    0\n",
            "    0    0    0    0    0    0    0    0    0    0    0    0    0    0\n",
            "    0    0    0    0    0    0    0    0    0    0    0    0    0    0\n",
            "    0    0    0    0    0    0    0    0    0    0    0    0]\n"
          ]
        }
      ]
    },
    {
      "cell_type": "markdown",
      "metadata": {
        "id": "T4Ac7EXNNblp"
      },
      "source": [
        "### Divisão da base de dados em treinamento e teste\n",
        "\n"
      ]
    },
    {
      "cell_type": "code",
      "metadata": {
        "id": "PsKVKiSzRnw-"
      },
      "source": [
        "train_inputs, test_inputs, train_labels, test_labels = train_test_split(data_inputs,\n",
        "                                                                        data_labels,\n",
        "                                                                        test_size=0.3,\n",
        "                                                                        stratify = data_labels)"
      ],
      "execution_count": 97,
      "outputs": []
    },
    {
      "cell_type": "code",
      "metadata": {
        "id": "-EoypKYBSRQR",
        "colab": {
          "base_uri": "https://localhost:8080/"
        },
        "outputId": "78b713bd-b711-44f1-958d-1a194461a7cb"
      },
      "source": [
        "train_inputs[0]"
      ],
      "execution_count": 98,
      "outputs": [
        {
          "output_type": "execute_result",
          "data": {
            "text/plain": [
              "array([    1, 11019,  6249,    11,    52,    39,  4422,   140,     0,\n",
              "           0,     0,     0,     0,     0,     0,     0,     0,     0,\n",
              "           0,     0,     0,     0,     0,     0,     0,     0,     0,\n",
              "           0,     0,     0,     0,     0,     0,     0,     0,     0,\n",
              "           0,     0,     0,     0,     0,     0,     0,     0,     0,\n",
              "           0,     0,     0,     0,     0,     0,     0,     0,     0],\n",
              "      dtype=int32)"
            ]
          },
          "metadata": {},
          "execution_count": 98
        }
      ]
    },
    {
      "cell_type": "code",
      "metadata": {
        "id": "NOcpln8ySYG6",
        "colab": {
          "base_uri": "https://localhost:8080/"
        },
        "outputId": "d53bf27c-5fcb-44e8-80f8-ad47bdbbb969"
      },
      "source": [
        "train_inputs.shape"
      ],
      "execution_count": 103,
      "outputs": [
        {
          "output_type": "execute_result",
          "data": {
            "text/plain": [
              "(168000, 54)"
            ]
          },
          "metadata": {},
          "execution_count": 103
        }
      ]
    },
    {
      "cell_type": "code",
      "metadata": {
        "id": "O7UxvSamScbx",
        "colab": {
          "base_uri": "https://localhost:8080/"
        },
        "outputId": "4cfedd26-f23c-4fe8-e13b-78faf40cbcdc"
      },
      "source": [
        "train_labels.shape"
      ],
      "execution_count": 100,
      "outputs": [
        {
          "output_type": "execute_result",
          "data": {
            "text/plain": [
              "(168000,)"
            ]
          },
          "metadata": {},
          "execution_count": 100
        }
      ]
    },
    {
      "cell_type": "code",
      "metadata": {
        "id": "HVnuy5MQShQ7",
        "colab": {
          "base_uri": "https://localhost:8080/"
        },
        "outputId": "6ecd50a1-47c6-481c-a859-dee238a890b3"
      },
      "source": [
        "test_inputs.shape"
      ],
      "execution_count": 101,
      "outputs": [
        {
          "output_type": "execute_result",
          "data": {
            "text/plain": [
              "(72000, 54)"
            ]
          },
          "metadata": {},
          "execution_count": 101
        }
      ]
    },
    {
      "cell_type": "code",
      "metadata": {
        "id": "xBH05YZrSm2h",
        "colab": {
          "base_uri": "https://localhost:8080/"
        },
        "outputId": "bce0303f-950b-4bae-fc4c-b1a2fb319fdd"
      },
      "source": [
        "test_labels.shape"
      ],
      "execution_count": 102,
      "outputs": [
        {
          "output_type": "execute_result",
          "data": {
            "text/plain": [
              "(72000,)"
            ]
          },
          "metadata": {},
          "execution_count": 102
        }
      ]
    },
    {
      "cell_type": "markdown",
      "metadata": {
        "id": "kWu6hLDG_UJZ"
      },
      "source": [
        "# Etapa 3: Construção do modelo\n",
        "\n",
        "![image.png](data:image/png;base64,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)"
      ]
    },
    {
      "cell_type": "code",
      "metadata": {
        "id": "xEATIsKmTFs3"
      },
      "source": [
        "class DCNN(tf.keras.Model):\n",
        "\n",
        "  def __init__(self,\n",
        "               vocab_size,\n",
        "               emb_dim=128,\n",
        "               nb_filters=50,\n",
        "               ffn_units=512,\n",
        "               nb_classes=2,\n",
        "               dropout_rate=0.1,\n",
        "               training=True,\n",
        "               name=\"dcnn\"):\n",
        "    super(DCNN, self).__init__(name=name)\n",
        "\n",
        "    # camadas de convolução\n",
        "\n",
        "    self.embedding = layers.Embedding(vocab_size, emb_dim)\n",
        "\n",
        "    self.bigram = layers.Conv1D(filters=nb_filters, kernel_size=2, padding='same', activation='relu')\n",
        "\n",
        "    self.trigram = layers.Conv1D(filters=nb_filters, kernel_size=3, padding='same', activation='relu')\n",
        "\n",
        "    self.fourgram = layers.Conv1D(filters=nb_filters, kernel_size=4, padding='same', activation='relu')\n",
        "\n",
        "    # pooling - pegar o maior valor de dentro do vetor\n",
        "\n",
        "    self.pool = layers.GlobalMaxPool1D()\n",
        "\n",
        "    # parte densa da rede neural\n",
        "\n",
        "    self.dense_1 = layers.Dense(units = ffn_units, activation = 'relu')\n",
        "    self.dropout = layers.Dropout(rate = dropout_rate)\n",
        "    if nb_classes == 2:\n",
        "      self.last_dense = layers.Dense(units = 1, activation = 'sigmoid')\n",
        "    else:\n",
        "      self.last_dense = layers.Dense(units = nb_classes, activation = 'softmax') # adicional, softmax retorna mais valores. Usar em mais de 2 classes\n",
        "\n",
        "    # ligação entre as camadas\n",
        "\n",
        "  def call(self, inputs, training):\n",
        "    x = self.embedding(inputs) # começamos o modelo com a camada de embedding\n",
        "    x_1 = self.bigram(x) # ligando o 'x' com a camada brigrama\n",
        "    x_1 = self.pool(x_1) # ligando com a camada de pooling\n",
        "    x_2 = self.trigram(x) # \"\n",
        "    x_2 = self.pool(x_2)  # \"\n",
        "    x_3 = self.fourgram(x) # \"\n",
        "    x_3 = self.pool(x_3) # \"\n",
        "\n",
        "    # rede neural densa - concatenação\n",
        "\n",
        "    merged = tf.concat([x_1, x_2, x_3], axis = -1) # (batch_size, 3 * nb_filters)\n",
        "    merged = self.dense_1(merged) # concatenação dos dados para a camada densa\n",
        "    merged = self.dropout(merged, training)\n",
        "    output = self.last_dense(merged)\n",
        "\n",
        "    return output"
      ],
      "execution_count": 104,
      "outputs": []
    },
    {
      "cell_type": "markdown",
      "metadata": {
        "id": "92XbAZ9E1AMS"
      },
      "source": [
        "# Etapa 4: Treinamento"
      ]
    },
    {
      "cell_type": "markdown",
      "metadata": {
        "id": "B8cfYwHME-m0"
      },
      "source": [
        "## Configuração dos parâmetros"
      ]
    },
    {
      "cell_type": "code",
      "metadata": {
        "id": "5VNPb5mFZsC8",
        "colab": {
          "base_uri": "https://localhost:8080/"
        },
        "outputId": "d732fccc-b154-46d1-9bda-f43d77271b70"
      },
      "source": [
        "vocab_size = tokenizer.vocab_size\n",
        "vocab_size"
      ],
      "execution_count": 105,
      "outputs": [
        {
          "output_type": "execute_result",
          "data": {
            "text/plain": [
              "52843"
            ]
          },
          "metadata": {},
          "execution_count": 105
        }
      ]
    },
    {
      "cell_type": "code",
      "metadata": {
        "id": "0MVJ_3QRZ3Nn",
        "colab": {
          "base_uri": "https://localhost:8080/"
        },
        "outputId": "9363fd78-96ef-4a65-ef18-11855e7878e7"
      },
      "source": [
        "emb_dim = 200 # precisa fazer o tuning dos parâmetros\n",
        "nb_filters = 100 # total de 300 filtros\n",
        "ffn_units = 256 # 256 neuronios na camada escondida\n",
        "batch_size = 64 # ajuste dos pesos entre 64 e 64 registros\n",
        "nb_classes = len(set(train_labels))\n",
        "nb_classes"
      ],
      "execution_count": 107,
      "outputs": [
        {
          "output_type": "execute_result",
          "data": {
            "text/plain": [
              "2"
            ]
          },
          "metadata": {},
          "execution_count": 107
        }
      ]
    },
    {
      "cell_type": "code",
      "metadata": {
        "id": "ntBWbJPZaUng"
      },
      "source": [
        "dropout_rate = 0.2\n",
        "nb_epochs = 5 # número de épocas"
      ],
      "execution_count": 109,
      "outputs": []
    },
    {
      "cell_type": "markdown",
      "metadata": {
        "id": "Nddzr1kA7UHC"
      },
      "source": [
        "## Treinamento"
      ]
    },
    {
      "cell_type": "code",
      "metadata": {
        "id": "yjSh-7HNaxX3"
      },
      "source": [
        "Dcnn = DCNN(vocab_size=vocab_size, emb_dim=emb_dim, nb_filters=nb_filters,\n",
        "            ffn_units=ffn_units, nb_classes=nb_classes, dropout_rate=dropout_rate)"
      ],
      "execution_count": 110,
      "outputs": []
    },
    {
      "cell_type": "code",
      "metadata": {
        "id": "j_Gj5koycHqd"
      },
      "source": [
        "if nb_classes == 2:\n",
        "  Dcnn.compile(loss='binary_crossentropy', optimizer='adam', metrics=['accuracy'])\n",
        "else:\n",
        "  Dcnn.compile(loss='sparse_categorical_crossentropy', optimizer='adam', metrics=['accuracy'])"
      ],
      "execution_count": 112,
      "outputs": []
    },
    {
      "cell_type": "code",
      "metadata": {
        "id": "L5s8GUMncejB"
      },
      "source": [
        "checkpoint_path = \"./\"\n",
        "ckpt = tf.train.Checkpoint(Dcnn=Dcnn)\n",
        "ckpt_manager = tf.train.CheckpointManager(ckpt, checkpoint_path, max_to_keep=5)\n",
        "if ckpt_manager.latest_checkpoint:\n",
        "  ckpt.restore(ckpt_manager.latest_checkpoint)\n",
        "  print('Latest checkpoint restored')"
      ],
      "execution_count": 113,
      "outputs": []
    },
    {
      "cell_type": "code",
      "metadata": {
        "id": "02etzYLydVEi",
        "colab": {
          "base_uri": "https://localhost:8080/",
          "height": 209
        },
        "outputId": "eb3f9012-705e-4683-8659-edecea7a562c"
      },
      "source": [
        "history = Dcnn.fit(train_inputs, train_labels,\n",
        "                   batch_size = batch_size,\n",
        "                   epochs = nb_epochs,\n",
        "                   verbose = 1,\n",
        "                   validation_split = 0.10)\n",
        "ckpt_manager.save()"
      ],
      "execution_count": 114,
      "outputs": [
        {
          "output_type": "stream",
          "name": "stdout",
          "text": [
            "Epoch 1/5\n",
            "2363/2363 [==============================] - 842s 355ms/step - loss: 0.5048 - accuracy: 0.7503 - val_loss: 0.4836 - val_accuracy: 0.7621\n",
            "Epoch 2/5\n",
            "2363/2363 [==============================] - 826s 349ms/step - loss: 0.3658 - accuracy: 0.8372 - val_loss: 0.5194 - val_accuracy: 0.7556\n",
            "Epoch 3/5\n",
            "2363/2363 [==============================] - 816s 345ms/step - loss: 0.1928 - accuracy: 0.9203 - val_loss: 0.7038 - val_accuracy: 0.7401\n",
            "Epoch 4/5\n",
            "2363/2363 [==============================] - 818s 346ms/step - loss: 0.1012 - accuracy: 0.9584 - val_loss: 1.0523 - val_accuracy: 0.7277\n",
            "Epoch 5/5\n",
            "2363/2363 [==============================] - 811s 343ms/step - loss: 0.0688 - accuracy: 0.9712 - val_loss: 1.2293 - val_accuracy: 0.7178\n"
          ]
        },
        {
          "output_type": "execute_result",
          "data": {
            "text/plain": [
              "'./ckpt-1'"
            ],
            "application/vnd.google.colaboratory.intrinsic+json": {
              "type": "string"
            }
          },
          "metadata": {},
          "execution_count": 114
        }
      ]
    },
    {
      "cell_type": "markdown",
      "metadata": {
        "id": "16Gn6JhJKXDK"
      },
      "source": [
        "# Etapa 5: Avaliação do modelo"
      ]
    },
    {
      "cell_type": "markdown",
      "metadata": {
        "id": "5s8GGVE11r2z"
      },
      "source": [
        "## Avaliação - base de dados de teste"
      ]
    },
    {
      "cell_type": "code",
      "metadata": {
        "id": "_2saJAr81TUy",
        "colab": {
          "base_uri": "https://localhost:8080/"
        },
        "outputId": "ec630f5c-edb3-4a52-d65f-12a40420a922"
      },
      "source": [
        "results = Dcnn.evaluate(test_inputs, test_labels, batch_size=batch_size)\n",
        "print(results)"
      ],
      "execution_count": 115,
      "outputs": [
        {
          "output_type": "stream",
          "name": "stdout",
          "text": [
            "1125/1125 [==============================] - 43s 38ms/step - loss: 1.2060 - accuracy: 0.7224\n",
            "[1.2059745788574219, 0.7224166393280029]\n"
          ]
        }
      ]
    },
    {
      "cell_type": "code",
      "metadata": {
        "id": "LNM3RVwO11Ph",
        "colab": {
          "base_uri": "https://localhost:8080/"
        },
        "outputId": "d5189ce1-3e9f-410a-f80d-cf19a42f0dfb"
      },
      "source": [
        "y_pred_test = Dcnn.predict(test_inputs)"
      ],
      "execution_count": 116,
      "outputs": [
        {
          "output_type": "stream",
          "name": "stdout",
          "text": [
            "2250/2250 [==============================] - 48s 21ms/step\n"
          ]
        }
      ]
    },
    {
      "cell_type": "code",
      "metadata": {
        "id": "dwYfU4bA19yZ",
        "colab": {
          "base_uri": "https://localhost:8080/"
        },
        "outputId": "88bb78d7-5f4b-417d-f9c0-8b50eceab5d7"
      },
      "source": [
        "y_pred_test"
      ],
      "execution_count": 121,
      "outputs": [
        {
          "output_type": "execute_result",
          "data": {
            "text/plain": [
              "array([[False],\n",
              "       [False],\n",
              "       [ True],\n",
              "       ...,\n",
              "       [ True],\n",
              "       [ True],\n",
              "       [False]])"
            ]
          },
          "metadata": {},
          "execution_count": 121
        }
      ]
    },
    {
      "cell_type": "code",
      "metadata": {
        "id": "cr3rYEy72Ps4"
      },
      "source": [
        "y_pred_test = (y_pred_test > 0.5)"
      ],
      "execution_count": 122,
      "outputs": []
    },
    {
      "cell_type": "code",
      "metadata": {
        "id": "LIT82QfF2bNV",
        "colab": {
          "base_uri": "https://localhost:8080/"
        },
        "outputId": "5f6b57bb-16df-4ab1-bc9f-8a3661b379ec"
      },
      "source": [
        "y_pred_test"
      ],
      "execution_count": 126,
      "outputs": [
        {
          "output_type": "execute_result",
          "data": {
            "text/plain": [
              "array([[False],\n",
              "       [False],\n",
              "       [ True],\n",
              "       ...,\n",
              "       [ True],\n",
              "       [ True],\n",
              "       [False]])"
            ]
          },
          "metadata": {},
          "execution_count": 126
        }
      ]
    },
    {
      "cell_type": "code",
      "metadata": {
        "id": "sXthDpw92eig",
        "colab": {
          "base_uri": "https://localhost:8080/"
        },
        "outputId": "39a36ed0-1761-497c-9017-70dc7b589960"
      },
      "source": [
        "test_labels"
      ],
      "execution_count": 127,
      "outputs": [
        {
          "output_type": "execute_result",
          "data": {
            "text/plain": [
              "array([0, 1, 0, ..., 1, 0, 1])"
            ]
          },
          "metadata": {},
          "execution_count": 127
        }
      ]
    },
    {
      "cell_type": "code",
      "metadata": {
        "id": "hlLBYrco2oQp",
        "colab": {
          "base_uri": "https://localhost:8080/"
        },
        "outputId": "75d9a7b9-1588-4f32-f615-cb31ccb3ea7c"
      },
      "source": [
        "from sklearn.metrics import confusion_matrix\n",
        "cm = confusion_matrix(test_labels, y_pred_test)\n",
        "cm"
      ],
      "execution_count": 129,
      "outputs": [
        {
          "output_type": "execute_result",
          "data": {
            "text/plain": [
              "array([[25885, 10115],\n",
              "       [ 9871, 26129]])"
            ]
          },
          "metadata": {},
          "execution_count": 129
        }
      ]
    },
    {
      "cell_type": "code",
      "metadata": {
        "id": "xBuMH2CC24Gf",
        "colab": {
          "base_uri": "https://localhost:8080/",
          "height": 449
        },
        "outputId": "385961b5-56e5-42e4-dad1-5f0852ae8ea7"
      },
      "source": [
        "sns.heatmap(cm, annot=True)"
      ],
      "execution_count": 130,
      "outputs": [
        {
          "output_type": "execute_result",
          "data": {
            "text/plain": [
              "<Axes: >"
            ]
          },
          "metadata": {},
          "execution_count": 130
        },
        {
          "output_type": "display_data",
          "data": {
            "text/plain": [
              "<Figure size 640x480 with 2 Axes>"
            ],
            "image/png": "[encoded data removed]"
          },
          "metadata": {}
        }
      ]
    },
    {
      "cell_type": "code",
      "metadata": {
        "id": "soGrESYl3TH4",
        "colab": {
          "base_uri": "https://localhost:8080/"
        },
        "outputId": "92af46ba-e856-4f72-a862-5930c5a030a9"
      },
      "source": [
        "history.history.keys()"
      ],
      "execution_count": 131,
      "outputs": [
        {
          "output_type": "execute_result",
          "data": {
            "text/plain": [
              "dict_keys(['loss', 'accuracy', 'val_loss', 'val_accuracy'])"
            ]
          },
          "metadata": {},
          "execution_count": 131
        }
      ]
    },
    {
      "cell_type": "code",
      "metadata": {
        "id": "EyfSXNtR3dGp",
        "colab": {
          "base_uri": "https://localhost:8080/",
          "height": 489
        },
        "outputId": "231c7209-da47-4537-fedd-6732c0eaa3e9"
      },
      "source": [
        "plt.plot(history.history['loss'])\n",
        "plt.plot(history.history['val_loss'])\n",
        "plt.title('Model loss progress during training and validation')\n",
        "plt.xlabel('Epoch')\n",
        "plt.ylabel('Losses')\n",
        "plt.legend(['Training loss', 'Validation loss'])"
      ],
      "execution_count": 132,
      "outputs": [
        {
          "output_type": "execute_result",
          "data": {
            "text/plain": [
              "<matplotlib.legend.Legend at 0x7a9504a2ba90>"
            ]
          },
          "metadata": {},
          "execution_count": 132
        },
        {
          "output_type": "display_data",
          "data": {
            "text/plain": [
              "<Figure size 640x480 with 1 Axes>"
            ],
            "image/png": "[encoded data removed]"
          },
          "metadata": {}
        }
      ]
    },
    {
      "cell_type": "code",
      "metadata": {
        "id": "S8DR5LnM4Xjz",
        "colab": {
          "base_uri": "https://localhost:8080/",
          "height": 489
        },
        "outputId": "b3f2cdc5-411a-4fba-e546-486aaf0e1b8a"
      },
      "source": [
        "plt.plot(history.history['accuracy'])\n",
        "plt.plot(history.history['val_accuracy'])\n",
        "plt.title('Model accuracy progress during training and validation')\n",
        "plt.xlabel('Epoch')\n",
        "plt.ylabel('Accuracy')\n",
        "plt.legend(['Training accuracy', 'Validation accuracy'])"
      ],
      "execution_count": 134,
      "outputs": [
        {
          "output_type": "execute_result",
          "data": {
            "text/plain": [
              "<matplotlib.legend.Legend at 0x7a94e6383dc0>"
            ]
          },
          "metadata": {},
          "execution_count": 134
        },
        {
          "output_type": "display_data",
          "data": {
            "text/plain": [
              "<Figure size 640x480 with 1 Axes>"
            ],
            "image/png": "[encoded data removed]"
          },
          "metadata": {}
        }
      ]
    },
    {
      "cell_type": "markdown",
      "metadata": {
        "id": "ClI0nAoj1vdk"
      },
      "source": [
        "## Previsões"
      ]
    },
    {
      "cell_type": "code",
      "metadata": {
        "id": "oeGl73bb5J2D",
        "colab": {
          "base_uri": "https://localhost:8080/"
        },
        "outputId": "5fda3209-2dbc-4d44-e869-c59137054a0f"
      },
      "source": [
        "text = 'you are very beautiful'\n",
        "text = tokenizer.encode(text)\n",
        "text"
      ],
      "execution_count": 141,
      "outputs": [
        {
          "output_type": "execute_result",
          "data": {
            "text/plain": [
              "[4060, 11612, 24410, 1485]"
            ]
          },
          "metadata": {},
          "execution_count": 141
        }
      ]
    },
    {
      "cell_type": "code",
      "metadata": {
        "id": "jYqKGfnZ5aGX",
        "colab": {
          "base_uri": "https://localhost:8080/"
        },
        "outputId": "ec762aff-f491-4a27-f1b6-a57b895ec506"
      },
      "source": [
        "Dcnn(np.array([text]), training=False).numpy()"
      ],
      "execution_count": 142,
      "outputs": [
        {
          "output_type": "execute_result",
          "data": {
            "text/plain": [
              "array([[0.9960923]], dtype=float32)"
            ]
          },
          "metadata": {},
          "execution_count": 142
        }
      ]
    }
  ]
}