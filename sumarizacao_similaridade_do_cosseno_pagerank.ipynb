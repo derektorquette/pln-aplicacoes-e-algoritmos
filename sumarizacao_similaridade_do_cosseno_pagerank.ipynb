{
  "nbformat": 4,
  "nbformat_minor": 0,
  "metadata": {
    "colab": {
      "provenance": [],
      "include_colab_link": true
    },
    "kernelspec": {
      "name": "python3",
      "display_name": "Python 3"
    }
  },
  "cells": [
    {
      "cell_type": "markdown",
      "metadata": {
        "id": "view-in-github",
        "colab_type": "text"
      },
      "source": [
        "<a href=\"https://colab.research.google.com/github/derektorquette/pln-com-deep-learning-ia-expert/blob/main/sumarizacao_similaridade_do_cosseno_pagerank.ipynb\" target=\"_parent\"><img src=\"https://colab.research.google.com/assets/colab-badge.svg\" alt=\"Open In Colab\"/></a>"
      ]
    },
    {
      "cell_type": "markdown",
      "metadata": {
        "id": "sPGfCKXebWbH"
      },
      "source": [
        "# Sumarização com similaridade do cosseno"
      ]
    },
    {
      "cell_type": "markdown",
      "metadata": {
        "id": "q8hjBnVEbbEq"
      },
      "source": [
        "## Preparação do texto de exemplo"
      ]
    },
    {
      "cell_type": "code",
      "metadata": {
        "id": "m1LwWn7XbPRa"
      },
      "source": [
        "import re\n",
        "import nltk\n",
        "import string\n",
        "import numpy as np\n",
        "from nltk.cluster.util import cosine_distance\n",
        "import networkx as nx # transformar as sentenças em grafos"
      ],
      "execution_count": 1,
      "outputs": []
    },
    {
      "cell_type": "code",
      "metadata": {
        "id": "0U6buOn1eFhD"
      },
      "source": [
        "nltk.download('punkt')\n",
        "nltk.download('stopwords')"
      ],
      "execution_count": null,
      "outputs": []
    },
    {
      "cell_type": "code",
      "metadata": {
        "colab": {
          "base_uri": "https://localhost:8080/"
        },
        "id": "1Syy9rgPemgJ",
        "outputId": "b164ffa7-0ee8-4a17-d1dc-ef59e2f3ec7a"
      },
      "source": [
        "stopwords = nltk.corpus.stopwords.words('portuguese')\n",
        "print(stopwords)"
      ],
      "execution_count": 3,
      "outputs": [
        {
          "output_type": "stream",
          "name": "stdout",
          "text": [
            "['a', 'à', 'ao', 'aos', 'aquela', 'aquelas', 'aquele', 'aqueles', 'aquilo', 'as', 'às', 'até', 'com', 'como', 'da', 'das', 'de', 'dela', 'delas', 'dele', 'deles', 'depois', 'do', 'dos', 'e', 'é', 'ela', 'elas', 'ele', 'eles', 'em', 'entre', 'era', 'eram', 'éramos', 'essa', 'essas', 'esse', 'esses', 'esta', 'está', 'estamos', 'estão', 'estar', 'estas', 'estava', 'estavam', 'estávamos', 'este', 'esteja', 'estejam', 'estejamos', 'estes', 'esteve', 'estive', 'estivemos', 'estiver', 'estivera', 'estiveram', 'estivéramos', 'estiverem', 'estivermos', 'estivesse', 'estivessem', 'estivéssemos', 'estou', 'eu', 'foi', 'fomos', 'for', 'fora', 'foram', 'fôramos', 'forem', 'formos', 'fosse', 'fossem', 'fôssemos', 'fui', 'há', 'haja', 'hajam', 'hajamos', 'hão', 'havemos', 'haver', 'hei', 'houve', 'houvemos', 'houver', 'houvera', 'houverá', 'houveram', 'houvéramos', 'houverão', 'houverei', 'houverem', 'houveremos', 'houveria', 'houveriam', 'houveríamos', 'houvermos', 'houvesse', 'houvessem', 'houvéssemos', 'isso', 'isto', 'já', 'lhe', 'lhes', 'mais', 'mas', 'me', 'mesmo', 'meu', 'meus', 'minha', 'minhas', 'muito', 'na', 'não', 'nas', 'nem', 'no', 'nos', 'nós', 'nossa', 'nossas', 'nosso', 'nossos', 'num', 'numa', 'o', 'os', 'ou', 'para', 'pela', 'pelas', 'pelo', 'pelos', 'por', 'qual', 'quando', 'que', 'quem', 'são', 'se', 'seja', 'sejam', 'sejamos', 'sem', 'ser', 'será', 'serão', 'serei', 'seremos', 'seria', 'seriam', 'seríamos', 'seu', 'seus', 'só', 'somos', 'sou', 'sua', 'suas', 'também', 'te', 'tem', 'tém', 'temos', 'tenha', 'tenham', 'tenhamos', 'tenho', 'terá', 'terão', 'terei', 'teremos', 'teria', 'teriam', 'teríamos', 'teu', 'teus', 'teve', 'tinha', 'tinham', 'tínhamos', 'tive', 'tivemos', 'tiver', 'tivera', 'tiveram', 'tivéramos', 'tiverem', 'tivermos', 'tivesse', 'tivessem', 'tivéssemos', 'tu', 'tua', 'tuas', 'um', 'uma', 'você', 'vocês', 'vos']\n"
          ]
        }
      ]
    },
    {
      "cell_type": "code",
      "metadata": {
        "id": "TNFbY6H1ervC"
      },
      "source": [
        "def preprocessamento(texto):\n",
        "  texto_formatado = texto.lower()\n",
        "  tokens = []\n",
        "  for token in nltk.word_tokenize(texto_formatado):\n",
        "    tokens.append(token)\n",
        "\n",
        "  tokens = [palavra for palavra in tokens if palavra not in stopwords and palavra not in string.punctuation]\n",
        "  texto_formatado = ' '.join([str(elemento) for elemento in tokens if not elemento.isdigit()])\n",
        "\n",
        "  return texto_formatado"
      ],
      "execution_count": 4,
      "outputs": []
    },
    {
      "cell_type": "code",
      "metadata": {
        "colab": {
          "base_uri": "https://localhost:8080/",
          "height": 70
        },
        "id": "KhkaxziLctKz",
        "outputId": "84e10256-4667-463a-ebdd-f4cca3bf044e"
      },
      "source": [
        "texto_original = \"\"\"A inteligência artificial é a inteligência similar à humana máquinas.\n",
        "                    Definem como o estudo de agente artificial com inteligência.\n",
        "                    Ciência e engenharia de produzir máquinas com inteligência.\n",
        "                    Resolver problemas e possuir inteligência.\n",
        "                    Relacionada ao comportamento inteligente.\n",
        "                    Construção de máquinas para raciocinar.\n",
        "                    Aprender com os erros e acertos.\n",
        "                    Inteligência artificial é raciocinar nas situações do cotidiano.\"\"\"\n",
        "texto_original = re.sub(r'\\s+', ' ', texto_original)\n",
        "texto_original"
      ],
      "execution_count": 5,
      "outputs": [
        {
          "output_type": "execute_result",
          "data": {
            "text/plain": [
              "'A inteligência artificial é a inteligência similar à humana máquinas. Definem como o estudo de agente artificial com inteligência. Ciência e engenharia de produzir máquinas com inteligência. Resolver problemas e possuir inteligência. Relacionada ao comportamento inteligente. Construção de máquinas para raciocinar. Aprender com os erros e acertos. Inteligência artificial é raciocinar nas situações do cotidiano.'"
            ],
            "application/vnd.google.colaboratory.intrinsic+json": {
              "type": "string"
            }
          },
          "metadata": {},
          "execution_count": 5
        }
      ]
    },
    {
      "cell_type": "markdown",
      "metadata": {
        "id": "UfuFBQ06iahM"
      },
      "source": [
        "## Função para calcular a similaridade entre sentenças\n",
        "\n",
        "- Link: https://en.wikipedia.org/wiki/Cosine_similarity\n",
        "- Cálculos passo a passo: https://janav.wordpress.com/2013/10/27/tf-idf-and-cosine-similarity/"
      ]
    },
    {
      "cell_type": "code",
      "metadata": {
        "id": "01WnGc7cUuAP"
      },
      "source": [
        "sentencas_originais = [sentenca for sentenca in nltk.sent_tokenize(texto_original)]\n",
        "sentencas_formatadas = [preprocessamento(sentenca_original) for sentenca_original in sentencas_originais]"
      ],
      "execution_count": 6,
      "outputs": []
    },
    {
      "cell_type": "code",
      "metadata": {
        "colab": {
          "base_uri": "https://localhost:8080/"
        },
        "id": "Ywevay_CVDHg",
        "outputId": "65272ee0-191e-48e4-e562-f6d21574f52f"
      },
      "source": [
        "sentencas_originais"
      ],
      "execution_count": 7,
      "outputs": [
        {
          "output_type": "execute_result",
          "data": {
            "text/plain": [
              "['A inteligência artificial é a inteligência similar à humana máquinas.',\n",
              " 'Definem como o estudo de agente artificial com inteligência.',\n",
              " 'Ciência e engenharia de produzir máquinas com inteligência.',\n",
              " 'Resolver problemas e possuir inteligência.',\n",
              " 'Relacionada ao comportamento inteligente.',\n",
              " 'Construção de máquinas para raciocinar.',\n",
              " 'Aprender com os erros e acertos.',\n",
              " 'Inteligência artificial é raciocinar nas situações do cotidiano.']"
            ]
          },
          "metadata": {},
          "execution_count": 7
        }
      ]
    },
    {
      "cell_type": "code",
      "metadata": {
        "colab": {
          "base_uri": "https://localhost:8080/"
        },
        "id": "iGVJDvzGVFas",
        "outputId": "671053bd-ae85-4a49-8822-ebaa77a9317b"
      },
      "source": [
        "sentencas_formatadas"
      ],
      "execution_count": 8,
      "outputs": [
        {
          "output_type": "execute_result",
          "data": {
            "text/plain": [
              "['inteligência artificial inteligência similar humana máquinas',\n",
              " 'definem estudo agente artificial inteligência',\n",
              " 'ciência engenharia produzir máquinas inteligência',\n",
              " 'resolver problemas possuir inteligência',\n",
              " 'relacionada comportamento inteligente',\n",
              " 'construção máquinas raciocinar',\n",
              " 'aprender erros acertos',\n",
              " 'inteligência artificial raciocinar situações cotidiano']"
            ]
          },
          "metadata": {},
          "execution_count": 8
        }
      ]
    },
    {
      "cell_type": "code",
      "metadata": {
        "id": "0zrNg4IZVOZX"
      },
      "source": [
        "def calcula_similaridade_sentencas(sentenca1, sentenca2):\n",
        "  palavras1 = [palavra for palavra in nltk.word_tokenize(sentenca1)]\n",
        "  palavras2 = [palavra for palavra in nltk.word_tokenize(sentenca2)]\n",
        "  #print(palavras1)\n",
        "  #print(palavras2)\n",
        "\n",
        "  todas_palavras = list(set(palavras1 + palavras2))\n",
        "  #print(todas_palavras)\n",
        "\n",
        "  vetor1 = [0] * len(todas_palavras)\n",
        "  vetor2 = [0] * len(todas_palavras)\n",
        "  #print(vetor1)\n",
        "  #print(vetor2)\n",
        "\n",
        "  for palavra in palavras1:\n",
        "    vetor1[todas_palavras.index(palavra)] += 1\n",
        "  for palavra in palavras2:\n",
        "    vetor2[todas_palavras.index(palavra)] += 1\n",
        "\n",
        "  #print(vetor1)\n",
        "  #print(vetor2) K-nn\n",
        "  return 1 - cosine_distance(vetor1, vetor2)"
      ],
      "execution_count": 9,
      "outputs": []
    },
    {
      "cell_type": "code",
      "metadata": {
        "colab": {
          "base_uri": "https://localhost:8080/"
        },
        "id": "EuTRTd4KVkSI",
        "outputId": "9366d840-74c0-4989-89bb-d44731983f04"
      },
      "source": [
        "calcula_similaridade_sentencas(sentencas_formatadas[0], sentencas_formatadas[0])"
      ],
      "execution_count": 10,
      "outputs": [
        {
          "output_type": "execute_result",
          "data": {
            "text/plain": [
              "0.9999999999999998"
            ]
          },
          "metadata": {},
          "execution_count": 10
        }
      ]
    },
    {
      "cell_type": "markdown",
      "metadata": {
        "id": "vrBir9vnijWB"
      },
      "source": [
        "## Função para gerar a matriz de similaridade"
      ]
    },
    {
      "cell_type": "code",
      "metadata": {
        "id": "njeMm3ZRZ3Vo"
      },
      "source": [
        "def calcula_matriz_similaridade(sentencas):\n",
        "  matriz_similaridade = np.zeros((len(sentencas), len(sentencas)))\n",
        "  #print(matriz_similaridade)\n",
        "  for i in range(len(sentencas)):\n",
        "    for j in range(len(sentencas)):\n",
        "      if i == j:\n",
        "        continue\n",
        "      matriz_similaridade[i][j] = calcula_similaridade_sentencas(sentencas[i], sentencas[j])\n",
        "\n",
        "  return matriz_similaridade"
      ],
      "execution_count": 11,
      "outputs": []
    },
    {
      "cell_type": "code",
      "metadata": {
        "id": "FWM1fHxSaHrt"
      },
      "source": [
        "calcula_matriz_similaridade(sentencas_formatadas)"
      ],
      "execution_count": null,
      "outputs": []
    },
    {
      "cell_type": "markdown",
      "metadata": {
        "id": "whPYH6nUiEHQ"
      },
      "source": [
        "## Função para sumarizar\n",
        "\n",
        "- Algoritmo Page Rank: https://www.youtube.com/watch?v=YfDNI1jp5sM e https://www.youtube.com/watch?v=YplmCue8XJU"
      ]
    },
    {
      "cell_type": "code",
      "metadata": {
        "id": "GwRnuL7pbqwq"
      },
      "source": [
        "def sumarizar(texto, quantidade_sentencas):\n",
        "  sentencas_originais = [sentenca for sentenca in nltk.sent_tokenize(texto)]\n",
        "  sentencas_formatadas = [preprocessamento(sentenca_original) for sentenca_original in sentencas_originais]\n",
        "  matriz_similaridade = calcula_matriz_similaridade(sentencas_formatadas)\n",
        "  #print(matriz_similaridade)\n",
        "  grafo_similaridade = nx.from_numpy_array(matriz_similaridade)\n",
        "  #print(grafo_similaridade.nodes)\n",
        "  #print(grafo_similaridade.edges)\n",
        "  notas = nx.pagerank(grafo_similaridade)\n",
        "  #print(notas)\n",
        "  notas_ordenadas = sorted(((notas[i], nota) for i, nota in enumerate(sentencas_originais)), reverse=True)\n",
        "  #print(notas_ordenadas)\n",
        "  melhores_sentencas = []\n",
        "  for i in range(quantidade_sentencas):\n",
        "    melhores_sentencas.append(notas_ordenadas[i][1]) # posição 1 temos os textos\n",
        "\n",
        "  return sentencas_originais, melhores_sentencas, notas_ordenadas"
      ],
      "execution_count": 33,
      "outputs": []
    },
    {
      "cell_type": "code",
      "metadata": {
        "id": "kPeO-9aicU5-"
      },
      "source": [
        "sentencas_originais, melhores_sentencas, notas_sentencas = sumarizar(texto_original, 3)"
      ],
      "execution_count": 29,
      "outputs": []
    },
    {
      "cell_type": "code",
      "metadata": {
        "id": "ptcMtccmfLK8"
      },
      "source": [
        "sentencas_originais"
      ],
      "execution_count": null,
      "outputs": []
    },
    {
      "cell_type": "code",
      "metadata": {
        "id": "blQYYIanfNNc"
      },
      "source": [
        "melhores_sentencas"
      ],
      "execution_count": null,
      "outputs": []
    },
    {
      "cell_type": "code",
      "metadata": {
        "id": "HrEoPcigfPQx"
      },
      "source": [
        "notas_sentencas"
      ],
      "execution_count": null,
      "outputs": []
    },
    {
      "cell_type": "markdown",
      "metadata": {
        "id": "5ckhtV0Nzf4c"
      },
      "source": [
        "## Visualização do resumo"
      ]
    },
    {
      "cell_type": "code",
      "metadata": {
        "id": "iJqyBA0DhuwR"
      },
      "source": [
        "def visualiza_resumo(titulo, lista_sentencas, melhores_sentencas):\n",
        "  from IPython.core.display import HTML\n",
        "  texto = ''\n",
        "\n",
        "  display(HTML(f'<h1>Resumo do texto - {titulo}</h1>'))\n",
        "  for i in lista_sentencas:\n",
        "    if i in melhores_sentencas:\n",
        "      texto += str(i).replace(i, f\"<mark>{i}</mark>\")\n",
        "    else:\n",
        "      texto += i\n",
        "  display(HTML(f\"\"\" {texto} \"\"\"))"
      ],
      "execution_count": 18,
      "outputs": []
    },
    {
      "cell_type": "code",
      "metadata": {
        "colab": {
          "base_uri": "https://localhost:8080/",
          "height": 127
        },
        "id": "AwPgTskpf8L0",
        "outputId": "39caedac-b785-4770-971a-51c0207618f6"
      },
      "source": [
        "visualiza_resumo('Teste', sentencas_originais, melhores_sentencas)"
      ],
      "execution_count": 19,
      "outputs": [
        {
          "output_type": "display_data",
          "data": {
            "text/plain": [
              "<IPython.core.display.HTML object>"
            ],
            "text/html": [
              "<h1>Resumo do texto - Teste</h1>"
            ]
          },
          "metadata": {}
        },
        {
          "output_type": "display_data",
          "data": {
            "text/plain": [
              "<IPython.core.display.HTML object>"
            ],
            "text/html": [
              " <mark>A inteligência artificial é a inteligência similar à humana máquinas.</mark>Definem como o estudo de agente artificial com inteligência.<mark>Ciência e engenharia de produzir máquinas com inteligência.</mark>Resolver problemas e possuir inteligência.Relacionada ao comportamento inteligente.Construção de máquinas para raciocinar.Aprender com os erros e acertos.<mark>Inteligência artificial é raciocinar nas situações do cotidiano.</mark> "
            ]
          },
          "metadata": {}
        }
      ]
    },
    {
      "cell_type": "markdown",
      "metadata": {
        "id": "U6z-C9JozqZu"
      },
      "source": [
        "## Extração de texto da internet"
      ]
    },
    {
      "cell_type": "code",
      "metadata": {
        "id": "Oo97xpjxzsTN"
      },
      "source": [
        "!pip install goose3"
      ],
      "execution_count": null,
      "outputs": []
    },
    {
      "cell_type": "code",
      "metadata": {
        "id": "g9tl7IhIzwl_"
      },
      "source": [
        "from goose3 import Goose\n",
        "g = Goose()\n",
        "url = 'https://iaexpert.academy/2020/11/09/ia-preve-resultado-das-eleicoes-americanas/'\n",
        "artigo = g.extract(url)"
      ],
      "execution_count": 22,
      "outputs": []
    },
    {
      "cell_type": "code",
      "metadata": {
        "id": "icNSs-pPzzHH"
      },
      "source": [
        "artigo.cleaned_text"
      ],
      "execution_count": null,
      "outputs": []
    },
    {
      "cell_type": "code",
      "metadata": {
        "id": "XFeat1tIz4Ig"
      },
      "source": [
        "sentencas_originais, melhores_sentencas, notas_sentencas = sumarizar(artigo.cleaned_text, 5)"
      ],
      "execution_count": 34,
      "outputs": []
    },
    {
      "cell_type": "code",
      "metadata": {
        "id": "2VqjSb0_z6_9"
      },
      "source": [
        "sentencas_originais"
      ],
      "execution_count": null,
      "outputs": []
    },
    {
      "cell_type": "code",
      "metadata": {
        "id": "4C7gY7Lyz87l"
      },
      "source": [
        "melhores_sentencas"
      ],
      "execution_count": null,
      "outputs": []
    },
    {
      "cell_type": "code",
      "metadata": {
        "id": "enaQoUHI0AXF"
      },
      "source": [
        "notas_sentencas"
      ],
      "execution_count": null,
      "outputs": []
    },
    {
      "cell_type": "code",
      "metadata": {
        "colab": {
          "base_uri": "https://localhost:8080/",
          "height": 335
        },
        "id": "m3UMdYnc0Gwy",
        "outputId": "b82394b6-e6da-48c9-d134-7b81b0190111"
      },
      "source": [
        "visualiza_resumo('Teste', sentencas_originais, melhores_sentencas)"
      ],
      "execution_count": 39,
      "outputs": [
        {
          "output_type": "display_data",
          "data": {
            "text/plain": [
              "<IPython.core.display.HTML object>"
            ],
            "text/html": [
              "<h1>Resumo do texto - Teste</h1>"
            ]
          },
          "metadata": {}
        },
        {
          "output_type": "display_data",
          "data": {
            "text/plain": [
              "<IPython.core.display.HTML object>"
            ],
            "text/html": [
              " Nas eleições presidenciais americanas de 2016, a maioria das predições apontavam para a vitória de Hillary Clinton.Entretanto, a história nos mostrou o resultado oposto, e Donald Trump foi o presidente nos últimos 4 anos.Desta vez, os estatísticos reexaminaram seus modelos, para aumentar o grau de confiabilidade nos seus resultados.Nesta tentativa de otimização das predições, a inteligência artificial certamente não ficou de fora.<mark>O modelo desenvolvido pelo Dr. Hernan Makse, físico estatístico da Universidade da Cidade de Nova York, baseou suas predições em uma rede neural treinada para processar os sentimentos expressos nas redes sociais.</mark>O algoritmo fez a análise de cerca de 1 bilhão de tweets para chegar a uma estimativa dos resultados do pleito.<mark>No dia da eleição, 3 de novembro, o modelo estava indicando a vitória de Joe Biden.</mark>O Dr. Makse disse que seu trabalho começou já na eleição de 2016, e foi testado novamente nas eleições na Argentina ano passado.<mark>Desta vez, o modelo está treinando com cerca de 5 vezes mais dados que nas eleições americanas anteriores.</mark>O trabalho não depende apenas da coleta dos dados, mas também de um tratamento estatístico adequado para levar em consideração duas variáveis externas: o viés de amostragem e a taxa de comparecimento.O primeiro fator se refere ao fato de que as redes sociais não necessariamente representam a população americana.A participação em redes sociais costuma ser maior nas cidades grandes, que de fato têm preferência por um dos candidatos, e o modelo deve ser corrigido para levar em consideração também a opinião das pessoas que não são ativas neste ambiente virtual.O segundo fator se deve à não-obrigatoriedade de votação nos Estados Unidos, ou seja, por mais que uma pessoa tenha sua preferência, pode ser que ela não compareça aos locais de votação para efetivá-la.<mark>Segundo o Dr. Makse, integrar estas duas variáveis em seu modelo é a parte mais importante do trabalho.</mark>Ele acredita ser esta uma das razões para que as estimativas da última eleição, baseadas em métodos tradicionais de coleta de informação, terem falhado.Sua equipe acompanhou as tendências apresentadas nas últimas eleições na Europa, e os modelos estão se revelando cada vez melhores.<mark>Quando seu modelo foi usado para predizer os resultados da eleição corrente usando dados brutos, Joe Biden apareceu como vencedor com larga vantagem.</mark>Após aplicar os mecanismos de correção para os dois vieses identificados, a vantagem diminuiu, mas Biden ainda é indicado como favorito.Parece que, desta vez, os algoritmos estão de fato contribuindo para que as predições sejam mais precisas. "
            ]
          },
          "metadata": {}
        }
      ]
    },
    {
      "cell_type": "markdown",
      "metadata": {
        "id": "ChVSxfFx1k8p"
      },
      "source": [
        "## Solução para o exercício - lematização"
      ]
    },
    {
      "cell_type": "code",
      "source": [
        "!pip install spacy==2.2.3"
      ],
      "metadata": {
        "id": "cvQBw7_6YjzG"
      },
      "execution_count": null,
      "outputs": []
    },
    {
      "cell_type": "code",
      "metadata": {
        "id": "sxRYrDAm1tFS"
      },
      "source": [
        "import spacy"
      ],
      "execution_count": 41,
      "outputs": []
    },
    {
      "cell_type": "code",
      "metadata": {
        "id": "-XIar_-510XW"
      },
      "source": [
        "!python -m spacy download pt"
      ],
      "execution_count": null,
      "outputs": []
    },
    {
      "cell_type": "code",
      "metadata": {
        "colab": {
          "base_uri": "https://localhost:8080/"
        },
        "id": "0qy5o6_G1oPU",
        "outputId": "40993a21-7a0f-4868-8226-112376c35946"
      },
      "source": [
        "pln = spacy.load(\"pt_core_news_sm\")\n",
        "pln"
      ],
      "execution_count": 45,
      "outputs": [
        {
          "output_type": "execute_result",
          "data": {
            "text/plain": [
              "<spacy.lang.pt.Portuguese at 0x78f5fcbfeec0>"
            ]
          },
          "metadata": {},
          "execution_count": 45
        }
      ]
    },
    {
      "cell_type": "code",
      "metadata": {
        "id": "PE8dBtmO15Gs"
      },
      "source": [
        "def preprocessamento_lematizacao(texto):\n",
        "  texto = texto.lower()\n",
        "  texto = re.sub(r\" +\", ' ', texto)\n",
        "\n",
        "  documento = pln(texto)\n",
        "  tokens = []\n",
        "  for token in documento:\n",
        "    tokens.append(token.lemma_)\n",
        "\n",
        "  tokens = [palavra for palavra in tokens if palavra not in stopwords and palavra not in string.punctuation]\n",
        "  texto_formatado = ' '.join([str(elemento) for elemento in tokens if not elemento.isdigit()])\n",
        "\n",
        "  return texto_formatado"
      ],
      "execution_count": 46,
      "outputs": []
    },
    {
      "cell_type": "code",
      "metadata": {
        "id": "XXCf0RyB1_Xm"
      },
      "source": [
        "def sumarizar_lematizacao(texto, quantidade_sentencas):\n",
        "  sentencas_originais = [sentenca for sentenca in nltk.sent_tokenize(texto)]\n",
        "  sentencas_formatadas = [preprocessamento_lematizacao(sentenca_original) for sentenca_original in sentencas_originais]\n",
        "  matriz_similaridade = calcula_matriz_similaridade(sentencas_formatadas)\n",
        "  grafo_similaridade = nx.from_numpy_array(matriz_similaridade)\n",
        "  notas = nx.pagerank(grafo_similaridade)\n",
        "  notas_ordenadas = sorted(((notas[i], nota) for i, nota in enumerate(sentencas_originais)), reverse=True)\n",
        "  melhores_sentencas = []\n",
        "  for i in range(quantidade_sentencas):\n",
        "    melhores_sentencas.append(notas_ordenadas[i][1])\n",
        "\n",
        "  return sentencas_originais, melhores_sentencas, notas_ordenadas"
      ],
      "execution_count": 47,
      "outputs": []
    },
    {
      "cell_type": "code",
      "metadata": {
        "id": "pAKxQnbv2IRs"
      },
      "source": [
        "artigo.cleaned_text"
      ],
      "execution_count": null,
      "outputs": []
    },
    {
      "cell_type": "code",
      "metadata": {
        "colab": {
          "base_uri": "https://localhost:8080/",
          "height": 335
        },
        "id": "PChlT_gB2MsD",
        "outputId": "84568890-c978-4489-834c-2c567ebfceed"
      },
      "source": [
        "sentencas_originais, melhores_sentencas, _ = sumarizar(artigo.cleaned_text, 5) # sem a lematização\n",
        "visualiza_resumo(artigo.title, sentencas_originais, melhores_sentencas)"
      ],
      "execution_count": 51,
      "outputs": [
        {
          "output_type": "display_data",
          "data": {
            "text/plain": [
              "<IPython.core.display.HTML object>"
            ],
            "text/html": [
              "<h1>Resumo do texto - IA prevê resultado das eleições americanas</h1>"
            ]
          },
          "metadata": {}
        },
        {
          "output_type": "display_data",
          "data": {
            "text/plain": [
              "<IPython.core.display.HTML object>"
            ],
            "text/html": [
              " Nas eleições presidenciais americanas de 2016, a maioria das predições apontavam para a vitória de Hillary Clinton.Entretanto, a história nos mostrou o resultado oposto, e Donald Trump foi o presidente nos últimos 4 anos.Desta vez, os estatísticos reexaminaram seus modelos, para aumentar o grau de confiabilidade nos seus resultados.Nesta tentativa de otimização das predições, a inteligência artificial certamente não ficou de fora.<mark>O modelo desenvolvido pelo Dr. Hernan Makse, físico estatístico da Universidade da Cidade de Nova York, baseou suas predições em uma rede neural treinada para processar os sentimentos expressos nas redes sociais.</mark>O algoritmo fez a análise de cerca de 1 bilhão de tweets para chegar a uma estimativa dos resultados do pleito.<mark>No dia da eleição, 3 de novembro, o modelo estava indicando a vitória de Joe Biden.</mark>O Dr. Makse disse que seu trabalho começou já na eleição de 2016, e foi testado novamente nas eleições na Argentina ano passado.<mark>Desta vez, o modelo está treinando com cerca de 5 vezes mais dados que nas eleições americanas anteriores.</mark>O trabalho não depende apenas da coleta dos dados, mas também de um tratamento estatístico adequado para levar em consideração duas variáveis externas: o viés de amostragem e a taxa de comparecimento.O primeiro fator se refere ao fato de que as redes sociais não necessariamente representam a população americana.A participação em redes sociais costuma ser maior nas cidades grandes, que de fato têm preferência por um dos candidatos, e o modelo deve ser corrigido para levar em consideração também a opinião das pessoas que não são ativas neste ambiente virtual.O segundo fator se deve à não-obrigatoriedade de votação nos Estados Unidos, ou seja, por mais que uma pessoa tenha sua preferência, pode ser que ela não compareça aos locais de votação para efetivá-la.<mark>Segundo o Dr. Makse, integrar estas duas variáveis em seu modelo é a parte mais importante do trabalho.</mark>Ele acredita ser esta uma das razões para que as estimativas da última eleição, baseadas em métodos tradicionais de coleta de informação, terem falhado.Sua equipe acompanhou as tendências apresentadas nas últimas eleições na Europa, e os modelos estão se revelando cada vez melhores.<mark>Quando seu modelo foi usado para predizer os resultados da eleição corrente usando dados brutos, Joe Biden apareceu como vencedor com larga vantagem.</mark>Após aplicar os mecanismos de correção para os dois vieses identificados, a vantagem diminuiu, mas Biden ainda é indicado como favorito.Parece que, desta vez, os algoritmos estão de fato contribuindo para que as predições sejam mais precisas. "
            ]
          },
          "metadata": {}
        }
      ]
    },
    {
      "cell_type": "code",
      "metadata": {
        "id": "1nv2lGNx2YI-",
        "colab": {
          "base_uri": "https://localhost:8080/",
          "height": 335
        },
        "outputId": "605d690f-8ae5-409e-bc34-6515ff404419"
      },
      "source": [
        "sentencas_originais, melhores_sentencas, _ = sumarizar_lematizacao(artigo.cleaned_text, 5) #com lematização\n",
        "visualiza_resumo(artigo.title, sentencas_originais, melhores_sentencas)"
      ],
      "execution_count": 52,
      "outputs": [
        {
          "output_type": "display_data",
          "data": {
            "text/plain": [
              "<IPython.core.display.HTML object>"
            ],
            "text/html": [
              "<h1>Resumo do texto - IA prevê resultado das eleições americanas</h1>"
            ]
          },
          "metadata": {}
        },
        {
          "output_type": "display_data",
          "data": {
            "text/plain": [
              "<IPython.core.display.HTML object>"
            ],
            "text/html": [
              " <mark>Nas eleições presidenciais americanas de 2016, a maioria das predições apontavam para a vitória de Hillary Clinton.</mark>Entretanto, a história nos mostrou o resultado oposto, e Donald Trump foi o presidente nos últimos 4 anos.Desta vez, os estatísticos reexaminaram seus modelos, para aumentar o grau de confiabilidade nos seus resultados.Nesta tentativa de otimização das predições, a inteligência artificial certamente não ficou de fora.<mark>O modelo desenvolvido pelo Dr. Hernan Makse, físico estatístico da Universidade da Cidade de Nova York, baseou suas predições em uma rede neural treinada para processar os sentimentos expressos nas redes sociais.</mark>O algoritmo fez a análise de cerca de 1 bilhão de tweets para chegar a uma estimativa dos resultados do pleito.<mark>No dia da eleição, 3 de novembro, o modelo estava indicando a vitória de Joe Biden.</mark><mark>O Dr. Makse disse que seu trabalho começou já na eleição de 2016, e foi testado novamente nas eleições na Argentina ano passado.</mark>Desta vez, o modelo está treinando com cerca de 5 vezes mais dados que nas eleições americanas anteriores.O trabalho não depende apenas da coleta dos dados, mas também de um tratamento estatístico adequado para levar em consideração duas variáveis externas: o viés de amostragem e a taxa de comparecimento.O primeiro fator se refere ao fato de que as redes sociais não necessariamente representam a população americana.<mark>A participação em redes sociais costuma ser maior nas cidades grandes, que de fato têm preferência por um dos candidatos, e o modelo deve ser corrigido para levar em consideração também a opinião das pessoas que não são ativas neste ambiente virtual.</mark>O segundo fator se deve à não-obrigatoriedade de votação nos Estados Unidos, ou seja, por mais que uma pessoa tenha sua preferência, pode ser que ela não compareça aos locais de votação para efetivá-la.Segundo o Dr. Makse, integrar estas duas variáveis em seu modelo é a parte mais importante do trabalho.Ele acredita ser esta uma das razões para que as estimativas da última eleição, baseadas em métodos tradicionais de coleta de informação, terem falhado.Sua equipe acompanhou as tendências apresentadas nas últimas eleições na Europa, e os modelos estão se revelando cada vez melhores.Quando seu modelo foi usado para predizer os resultados da eleição corrente usando dados brutos, Joe Biden apareceu como vencedor com larga vantagem.Após aplicar os mecanismos de correção para os dois vieses identificados, a vantagem diminuiu, mas Biden ainda é indicado como favorito.Parece que, desta vez, os algoritmos estão de fato contribuindo para que as predições sejam mais precisas. "
            ]
          },
          "metadata": {}
        }
      ]
    }
  ]
}