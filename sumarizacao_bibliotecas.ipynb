{
  "nbformat": 4,
  "nbformat_minor": 0,
  "metadata": {
    "colab": {
      "provenance": [],
      "include_colab_link": true
    },
    "kernelspec": {
      "name": "python3",
      "display_name": "Python 3"
    }
  },
  "cells": [
    {
      "cell_type": "markdown",
      "metadata": {
        "id": "view-in-github",
        "colab_type": "text"
      },
      "source": [
        "<a href=\"https://colab.research.google.com/github/derektorquette/pln-com-deep-learning-ia-expert/blob/main/sumarizacao_bibliotecas.ipynb\" target=\"_parent\"><img src=\"https://colab.research.google.com/assets/colab-badge.svg\" alt=\"Open In Colab\"/></a>"
      ]
    },
    {
      "cell_type": "markdown",
      "metadata": {
        "id": "e3oajPnc63dX"
      },
      "source": [
        "# Sumarização de textos com bibliotecas\n",
        "- Sumy, Pysummarization e BERT summarizer"
      ]
    },
    {
      "cell_type": "markdown",
      "metadata": {
        "id": "3vrmS88U7Sc4"
      },
      "source": [
        "## Textos de exemplos"
      ]
    },
    {
      "cell_type": "code",
      "metadata": {
        "id": "weiRapuF76s1"
      },
      "source": [
        "import nltk\n",
        "nltk.download('punkt')"
      ],
      "execution_count": null,
      "outputs": []
    },
    {
      "cell_type": "code",
      "metadata": {
        "id": "tW8PS7ey7VwO"
      },
      "source": [
        "!pip install goose3"
      ],
      "execution_count": null,
      "outputs": []
    },
    {
      "cell_type": "code",
      "metadata": {
        "id": "M3NlgusO7ZA8"
      },
      "source": [
        "from goose3 import Goose\n",
        "g = Goose()\n",
        "url = 'https://iaexpert.academy/2020/11/09/ia-preve-resultado-das-eleicoes-americanas/'\n",
        "artigo_portugues = g.extract(url)"
      ],
      "execution_count": 3,
      "outputs": []
    },
    {
      "cell_type": "code",
      "metadata": {
        "id": "OSdQTvE57iis"
      },
      "source": [
        "url = 'https://en.wikipedia.org/wiki/Artificial_intelligence'\n",
        "artigo_ingles = g.extract(url)"
      ],
      "execution_count": 4,
      "outputs": []
    },
    {
      "cell_type": "code",
      "metadata": {
        "id": "mMkWRcIhkfA4"
      },
      "source": [
        "artigo_portugues.cleaned_text"
      ],
      "execution_count": null,
      "outputs": []
    },
    {
      "cell_type": "code",
      "metadata": {
        "id": "FkiGHfTy7lIP"
      },
      "source": [
        "artigo_ingles.cleaned_text"
      ],
      "execution_count": null,
      "outputs": []
    },
    {
      "cell_type": "markdown",
      "metadata": {
        "id": "u1TWH_Jx7Kc7"
      },
      "source": [
        "## Biblioteca sumy\n",
        "\n",
        "- https://pypi.org/project/sumy/"
      ]
    },
    {
      "cell_type": "code",
      "metadata": {
        "id": "u2vF_C0E9x9p"
      },
      "source": [
        "!pip install sumy"
      ],
      "execution_count": null,
      "outputs": []
    },
    {
      "cell_type": "code",
      "metadata": {
        "id": "iSslir2094WW"
      },
      "source": [
        "from sumy.parsers.plaintext import PlaintextParser\n",
        "from sumy.nlp.tokenizers import Tokenizer\n",
        "from sumy.summarizers.luhn import LuhnSummarizer"
      ],
      "execution_count": 8,
      "outputs": []
    },
    {
      "cell_type": "code",
      "metadata": {
        "id": "iEJK2BAh-LbR"
      },
      "source": [
        "parser = PlaintextParser.from_string(artigo_portugues.cleaned_text, Tokenizer('portuguese'))"
      ],
      "execution_count": 9,
      "outputs": []
    },
    {
      "cell_type": "code",
      "metadata": {
        "id": "j-X4xzhL-XZg"
      },
      "source": [
        "sumarizador = LuhnSummarizer()"
      ],
      "execution_count": 10,
      "outputs": []
    },
    {
      "cell_type": "code",
      "metadata": {
        "id": "9fhLDFRv-a3m"
      },
      "source": [
        "resumo = sumarizador(parser.document, 5)"
      ],
      "execution_count": 11,
      "outputs": []
    },
    {
      "cell_type": "code",
      "metadata": {
        "colab": {
          "base_uri": "https://localhost:8080/"
        },
        "id": "OSKcIey9-j1m",
        "outputId": "2139e059-27c7-4a79-ef3b-7fa6bcd29270"
      },
      "source": [
        "resumo"
      ],
      "execution_count": 12,
      "outputs": [
        {
          "output_type": "execute_result",
          "data": {
            "text/plain": [
              "(<Sentence: Desta vez, o modelo está treinando com cerca de 5 vezes mais dados que nas eleições americanas anteriores.>,\n",
              " <Sentence: O trabalho não depende apenas da coleta dos dados, mas também de um tratamento estatístico adequado para levar em consideração duas variáveis externas: o viés de amostragem e a taxa de comparecimento.>,\n",
              " <Sentence: A participação em redes sociais costuma ser maior nas cidades grandes, que de fato têm preferência por um dos candidatos, e o modelo deve ser corrigido para levar em consideração também a opinião das pessoas que não são ativas neste ambiente virtual.>,\n",
              " <Sentence: Segundo o Dr. Makse, integrar estas duas variáveis em seu modelo é a parte mais importante do trabalho.>,\n",
              " <Sentence: Parece que, desta vez, os algoritmos estão de fato contribuindo para que as predições sejam mais precisas.>)"
            ]
          },
          "metadata": {},
          "execution_count": 12
        }
      ]
    },
    {
      "cell_type": "code",
      "metadata": {
        "colab": {
          "base_uri": "https://localhost:8080/"
        },
        "id": "u-T0zB65-nf8",
        "outputId": "95d9dcd2-9da7-46b5-dd1a-0d5e1d94185c"
      },
      "source": [
        "for sentenca in resumo:\n",
        "  print(sentenca)"
      ],
      "execution_count": 13,
      "outputs": [
        {
          "output_type": "stream",
          "name": "stdout",
          "text": [
            "Desta vez, o modelo está treinando com cerca de 5 vezes mais dados que nas eleições americanas anteriores.\n",
            "O trabalho não depende apenas da coleta dos dados, mas também de um tratamento estatístico adequado para levar em consideração duas variáveis externas: o viés de amostragem e a taxa de comparecimento.\n",
            "A participação em redes sociais costuma ser maior nas cidades grandes, que de fato têm preferência por um dos candidatos, e o modelo deve ser corrigido para levar em consideração também a opinião das pessoas que não são ativas neste ambiente virtual.\n",
            "Segundo o Dr. Makse, integrar estas duas variáveis em seu modelo é a parte mais importante do trabalho.\n",
            "Parece que, desta vez, os algoritmos estão de fato contribuindo para que as predições sejam mais precisas.\n"
          ]
        }
      ]
    },
    {
      "cell_type": "markdown",
      "metadata": {
        "id": "UGnV_6KO8IlO"
      },
      "source": [
        "## Biblioteca pysummarization\n",
        "\n",
        "- https://pypi.org/project/pysummarization/\n",
        "- Redes neurais recorrentes: https://www.youtube.com/watch?v=ZvBJxh5O3H0"
      ]
    },
    {
      "cell_type": "code",
      "metadata": {
        "id": "s-j5RHSX_rxx"
      },
      "source": [
        "!pip install pysummarization"
      ],
      "execution_count": null,
      "outputs": []
    },
    {
      "cell_type": "code",
      "metadata": {
        "id": "9OkijLEV_wXl"
      },
      "source": [
        "from pysummarization.nlpbase.auto_abstractor import AutoAbstractor\n",
        "from pysummarization.tokenizabledoc.simple_tokenizer import SimpleTokenizer\n",
        "from pysummarization.abstractabledoc.top_n_rank_abstractor import TopNRankAbstractor"
      ],
      "execution_count": 15,
      "outputs": []
    },
    {
      "cell_type": "code",
      "metadata": {
        "id": "UqSbcR-1AFtQ"
      },
      "source": [
        "auto_abstractor = AutoAbstractor()\n",
        "auto_abstractor.tokenizable_doc = SimpleTokenizer()\n",
        "auto_abstractor.delimiter_list = [\".\", \"\\n\"]\n",
        "abstractable_doc = TopNRankAbstractor()\n",
        "resumo = auto_abstractor.summarize(artigo_ingles.cleaned_text, abstractable_doc)"
      ],
      "execution_count": 16,
      "outputs": []
    },
    {
      "cell_type": "code",
      "metadata": {
        "id": "GenUpGTAAxve"
      },
      "source": [
        "resumo"
      ],
      "execution_count": null,
      "outputs": []
    },
    {
      "cell_type": "code",
      "metadata": {
        "colab": {
          "base_uri": "https://localhost:8080/"
        },
        "id": "AUSJB176A-Iw",
        "outputId": "8753f2db-7b8e-439e-98b4-19000d71fd6c"
      },
      "source": [
        "for sentenca in resumo['summarize_result']:\n",
        "  print(sentenca)"
      ],
      "execution_count": 18,
      "outputs": [
        {
          "output_type": "stream",
          "name": "stdout",
          "text": [
            "Artificial intelligence (AI), in its broadest sense, is intelligence exhibited by machines, particularly computer systems.\n",
            "\n",
            " It is a field of research in computer science that develops and studies methods and software which enable machines to perceive their environment and uses learning and intelligence to take actions that maximize their chances of achieving defined goals.\n",
            "\n",
            "AI technology is widely used throughout industry, government, and science.\n",
            "\n",
            " Some high-profile applications include advanced web search engines (e.\n",
            "\n",
            ", Google Search); recommendation systems (used by YouTube, Amazon, and Netflix); interacting via human speech (e.\n",
            "\n",
            ", Google Assistant, Siri, and Alexa); autonomous vehicles (e.\n",
            "\n",
            ", ChatGPT and AI art); and superhuman play and analysis in strategy games (e.\n",
            "\n",
            " However, many AI applications are not perceived as AI: \"A lot of cutting edge AI has filtered into general applications, often without being called AI because once something becomes useful enough and common enough it's not labeled AI anymore.\n",
            "\n",
            "AI and machine learning technology is used in most of the essential applications of the 2020s, including: search engines (such as Google Search), targeting online advertisements, recommendation systems (offered by Netflix, YouTube or Amazon), driving internet traffic, targeted advertising (AdSense, Facebook), virtual assistants (such as Siri or Alexa), autonomous vehicles (including drones, ADAS and self-driving cars), automatic language translation (Microsoft Translator, Google Translate), facial recognition (Apple's Face ID or Microsoft's DeepFace and Google's FaceNet) and image labeling (used by Facebook, Apple's iPhoto and TikTok).\n",
            "\n",
            " The leading AI textbook defines it as the study of agents that perceive their environment and take actions that maximize their chances of achieving defined goals.\n",
            "\n"
          ]
        }
      ]
    },
    {
      "cell_type": "markdown",
      "metadata": {
        "id": "bhTq9pdG8f_r"
      },
      "source": [
        "## Biblioteca - BERT\n",
        "\n",
        "- https://pypi.org/project/bert-extractive-summarizer/\n",
        "- Arquitetura BERT: https://www.youtube.com/watch?v=ERA1bjBKqtE"
      ]
    },
    {
      "cell_type": "code",
      "metadata": {
        "id": "EybSLQYBCTzc"
      },
      "source": [
        "!pip install bert-extractive-summarizer"
      ],
      "execution_count": null,
      "outputs": []
    },
    {
      "cell_type": "code",
      "metadata": {
        "id": "VeQTODLaCbDB"
      },
      "source": [
        "from summarizer import Summarizer"
      ],
      "execution_count": 20,
      "outputs": []
    },
    {
      "cell_type": "code",
      "metadata": {
        "id": "vVq86syiCeyR"
      },
      "source": [
        "sumarizador = Summarizer()\n",
        "resumo = sumarizador(artigo_ingles.cleaned_text)"
      ],
      "execution_count": null,
      "outputs": []
    },
    {
      "cell_type": "code",
      "metadata": {
        "colab": {
          "base_uri": "https://localhost:8080/",
          "height": 139
        },
        "id": "jgu6c7baEcxy",
        "outputId": "e14602c1-5f05-43b0-9d65-941c341357ac"
      },
      "source": [
        "resumo"
      ],
      "execution_count": 24,
      "outputs": [
        {
          "output_type": "execute_result",
          "data": {
            "text/plain": [
              "'Artificial intelligence (AI), in its broadest sense, is intelligence exhibited by machines, particularly computer systems. It is a field of research in computer science that develops and studies methods and software which enable machines to perceive their environment and uses learning and intelligence to take actions that maximize their chances of achieving defined goals. However, many AI applications are not perceived as AI: \"A lot of cutting edge AI has filtered into general applications, often without being called AI because once something becomes useful enough and common enough it\\'s not labeled AI anymore. Knowledge representation and knowledge engineering[20] allow AI programs to answer questions intelligently and make deductions about real-world facts. A knowledge base is a body of knowledge represented in a form that can be used by a program. An ontology is the set of objects, relations, concepts, and properties used by a particular domain of knowledge. Knowledge bases need to represent things such as: objects, properties, categories and relations between objects;[27] situations, events, states and time;[28] causes and effects;[29] knowledge about knowledge (what we know about what other people know);[30] default reasoning (things that humans assume are true until they are told differently and will remain true even when other facts are changing);[31] and many other aspects and domains of knowledge. These can be learned (e.g., with inverse reinforcement learning) or the agent can seek information to improve its preferences.[40] Information value theory can be used to weigh the value of exploratory or experimental actions.[41] The space of possible future actions and situations is typically intractably large, so the agents must take actions and evaluate situations while being uncertain what the outcome will be. Simple exhaustive searches[73] are rarely sufficient for most real-world problems: the search space (the number of places to search) quickly grows to astronomical numbers. It begins with some form of guess and refines it incrementally.[76]\\n\\nGradient descent is a type of local search that optimizes a set of numerical parameters by incrementally adjusting them to minimize a loss function. Moreover, its efficiency is competitive with computation in other symbolic programming languages.[86]\\n\\nFuzzy logic assigns a \"degree of truth\" between 0 and 1. They can be fine-tuned based on chosen examples using supervised learning. There is an input, at least one hidden layer of nodes and an output. A network is typically called a deep neural network if it has at least 2 hidden layers.[105]\\n\\nLearning algorithms for neural networks use local search to choose the weights that will get the right output for each input during training. The multiple layers can progressively extract higher-level features from the raw input. Text-based GPT models are pre-trained on a large corpus of text which can be from the internet. Historically, specialized languages, such as Lisp, Prolog, Python and others, had been used. The commitments include using legal reviews to ensure the compliance of military AI with international laws, and being cautious and transparent in the development of this technology.[143]\\n\\nIn the early 2020s, generative AI gained widespread prominence. In a 2017 survey, one in five companies reported they had incorporated \"AI\" in some offerings or processes.[147] A few examples are energy storage, medical diagnosis, military logistics, applications that predict the result of judicial decisions, foreign policy, or supply chain management. In-production systems can sometimes not factor ethics and bias into their AI training processes, especially when the AI algorithms are inherently unexplainable in deep learning. Machine-learning algorithms require large amounts of data. The techniques used to acquire this data have raised concerns about privacy, surveillance and copyright. Since 2016, some privacy experts, such as Cynthia Dwork, have begun to view privacy in terms of fairness. These AI programs were given the goal of maximizing user engagement (that is, the only goal was to keep people watching). Machine learning applications will be biased if they learn from biased data. Bias can be introduced by the way training data is selected and by the way a model is deployed. It has become serious area of academic study within AI. The feature will correlate with other features (like \"address\", \"shopping history\" or \"first name\"), and the program will make the same decisions based on these features as it would on \"race\" or \"gender\".[174] Moritz Hardt said \"the most robust fact in this research area is that fairness through blindness doesn\\'t work. If they are trained on data that includes the results of racist decisions in the past, machine learning models must predict that racist decisions will be made in the future. Particularly with deep neural networks, in which there are a large amount of non-linear relationships between inputs and outputs. Regulators argued that nevertheless the harm is real: if the problem has no solution, the tools should not be used. LIME can locally approximate a model with a simpler, interpretable model. These other outputs can help developers deduce what the network has learned. Face and voice recognition allow widespread surveillance. Machine learning, operating this data, can classify potential enemies of the state and prevent them from hiding. Advanced AI can make authoritarian centralized decision making more competitive than liberal and decentralized systems such as markets. Usually only Big Tech companies have the financial resources to make such investments. Modern AI programs are given specific goals and use learning and intelligence to achieve them. Stuart Russell gives the example of household robot that tries to find a way to kill its owner to prevent it from being unplugged, reasoning that \"you can\\'t fetch the coffee if you\\'re dead.\" Things like ideologies, law, government, money and the economy are made of language; they exist because there are stories that billions of people believe. \"[222] In the early 2010s, experts argued that the risks are too distant in the future to warrant research or that humans will be valuable from the perspective of a superintelligent machine.[223] However, after 2016, the study of current and future risks and possible solutions became a serious area of research. Machines with intelligence have the potential to use their intelligence to make ethical decisions. The field of machine ethics is also called computational morality, and was founded at an AAAI symposium in 2005. Herbert Simon predicted, \"machines will be capable, within twenty years, of doing any work a man can do\".[258] Marvin Minsky agreed, writing, \"within a generation ... the problem of creating \\'artificial intelligence\\' will substantially be solved\".[259] They had, however, underestimated the difficulty of the problem.[v] In 1974, both the U.S. and British governments cut off exploratory research in response to the criticism of Sir James Lighthill and ongoing pressure from the U.S. Congress to fund more productive projects. This \"narrow\" and \"formal\" focus allowed researchers to produce verifiable results and collaborate with other fields (such as statistics, economics and mathematics).[274] By 2000, solutions developed by AI researchers were being widely used, although in the 1990s they were rarely described as \"artificial intelligence\".[275] However, several academic researchers became concerned that AI was no longer pursuing its original goal of creating versatile, fully intelligent machines. Beginning around 2002, they founded the subfield of artificial general intelligence (or \"AGI\"), which had several well-funded institutions by the 2010s.[14]\\n\\nDeep learning began to dominate industry benchmarks in 2012 and was adopted throughout the field.[11] For many specific tasks, other methods were abandoned.[x] Deep learning\\'s success was based on both hardware improvements (faster computers,[277] graphics processing units, cloud computing ) and access to large amounts of data[279] (including curated datasets, such as ImageNet). The alignment problem became a serious field of academic study. In the late teens and early 2020s, AGI companies began to deliver programs that created enormous interest. In 2015, AlphaGo, developed by DeepMind, beat the world champion Go player. GPT-3 is a large language model that was released in 2020 by OpenAI and is capable of generating high-quality human-like text.[280] These programs, and others, inspired an aggressive AI boom, where large companies began investing billions in AI research. About 800,000 \"AI\"-related US job openings existed in 2022. Aeronautical engineering texts,\" they wrote, \"do not define the goal of their field as making \\'machines that fly so exactly like pigeons that they can fool other pigeons.\\'\" Another AI founder, Marvin Minsky similarly describes it as \"the ability to solve hard problems\". Critics argue that these questions may have to be revisited by future generations of AI researchers. They were highly successful at \"intelligent\" tasks such as algebra or IQ tests. Neats defend their programs with theoretical rigor, scruffies rely mainly on incremental testing to see if they work. AI researchers are divided as to whether to pursue the goals of artificial general intelligence and superintelligence directly or to solve as many specific problems as possible (narrow AI) in hopes these solutions will lead indirectly to the field\\'s long-term goals. It is also typically the central question at issue in artificial intelligence in fiction. • Theranostics and AI—The Next Advance in Cancer Precision Medicine'"
            ],
            "application/vnd.google.colaboratory.intrinsic+json": {
              "type": "string"
            }
          },
          "metadata": {},
          "execution_count": 24
        }
      ]
    },
    {
      "cell_type": "code",
      "metadata": {
        "colab": {
          "base_uri": "https://localhost:8080/"
        },
        "id": "HVFmajCFEgmF",
        "outputId": "b2544c56-197f-44f1-b336-5694199c6718"
      },
      "source": [
        "len(artigo_ingles.cleaned_text), len(resumo)"
      ],
      "execution_count": 23,
      "outputs": [
        {
          "output_type": "execute_result",
          "data": {
            "text/plain": [
              "(69823, 9754)"
            ]
          },
          "metadata": {},
          "execution_count": 23
        }
      ]
    },
    {
      "cell_type": "markdown",
      "metadata": {
        "id": "SPI3SJuj8siV"
      },
      "source": [
        "## Solução para o exercício - biblioteca sumy"
      ]
    },
    {
      "cell_type": "code",
      "metadata": {
        "id": "4gRI0nf89ani"
      },
      "source": [
        "sentencas_originais = [sentenca for sentenca in nltk.sent_tokenize(artigo_portugues.cleaned_text)]\n",
        "sentencas_originais"
      ],
      "execution_count": null,
      "outputs": []
    },
    {
      "cell_type": "code",
      "metadata": {
        "id": "5B1q2RvE8wZ5"
      },
      "source": [
        "from sumy.parsers.plaintext import PlaintextParser\n",
        "from sumy.nlp.tokenizers import Tokenizer\n",
        "from sumy.summarizers.lsa import LsaSummarizer\n",
        "from sumy.summarizers.lex_rank import LexRankSummarizer\n",
        "from sumy.summarizers.text_rank import TextRankSummarizer\n",
        "from sumy.summarizers.sum_basic import SumBasicSummarizer\n",
        "from sumy.summarizers.kl import KLSummarizer\n",
        "from sumy.summarizers.reduction import ReductionSummarizer"
      ],
      "execution_count": 26,
      "outputs": []
    },
    {
      "cell_type": "markdown",
      "metadata": {
        "id": "qcmw6jXFAGEF"
      },
      "source": [
        "### LsaSummarizer"
      ]
    },
    {
      "cell_type": "code",
      "metadata": {
        "colab": {
          "base_uri": "https://localhost:8080/"
        },
        "id": "fg4DsKRQ96C4",
        "outputId": "7926bcd7-0005-44da-df8d-8f93cbca0395"
      },
      "source": [
        "parser = PlaintextParser.from_string(artigo_portugues.cleaned_text,Tokenizer('portuguese'))\n",
        "sumarizador = LsaSummarizer()\n",
        "resumo = sumarizador(parser.document, 5)\n",
        "melhores_sentencas = []\n",
        "for sentenca in resumo:\n",
        "  print(sentenca)"
      ],
      "execution_count": 33,
      "outputs": [
        {
          "output_type": "stream",
          "name": "stdout",
          "text": [
            "Desta vez, o modelo está treinando com cerca de 5 vezes mais dados que nas eleições americanas anteriores.\n",
            "O primeiro fator se refere ao fato de que as redes sociais não necessariamente representam a população americana.\n",
            "A participação em redes sociais costuma ser maior nas cidades grandes, que de fato têm preferência por um dos candidatos, e o modelo deve ser corrigido para levar em consideração também a opinião das pessoas que não são ativas neste ambiente virtual.\n",
            "Sua equipe acompanhou as tendências apresentadas nas últimas eleições na Europa, e os modelos estão se revelando cada vez melhores.\n",
            "Quando seu modelo foi usado para predizer os resultados da eleição corrente usando dados brutos, Joe Biden apareceu como vencedor com larga vantagem.\n"
          ]
        }
      ]
    },
    {
      "cell_type": "markdown",
      "metadata": {
        "id": "Y9PEiR6rAyAU"
      },
      "source": [
        "### LexRankSummarizer"
      ]
    },
    {
      "cell_type": "code",
      "metadata": {
        "colab": {
          "base_uri": "https://localhost:8080/"
        },
        "id": "4ypZUR5lAz2_",
        "outputId": "e2052643-f3d1-468f-def7-de5decf503eb"
      },
      "source": [
        "parser = PlaintextParser.from_string(artigo_portugues.cleaned_text,Tokenizer('portuguese'))\n",
        "sumarizador = LexRankSummarizer()\n",
        "resumo = sumarizador(parser.document, 5)\n",
        "melhores_sentencas = []\n",
        "for sentenca in resumo:\n",
        "  print(sentenca)"
      ],
      "execution_count": 28,
      "outputs": [
        {
          "output_type": "stream",
          "name": "stdout",
          "text": [
            "Entretanto, a história nos mostrou o resultado oposto, e Donald Trump foi o presidente nos últimos 4 anos.\n",
            "Desta vez, o modelo está treinando com cerca de 5 vezes mais dados que nas eleições americanas anteriores.\n",
            "A participação em redes sociais costuma ser maior nas cidades grandes, que de fato têm preferência por um dos candidatos, e o modelo deve ser corrigido para levar em consideração também a opinião das pessoas que não são ativas neste ambiente virtual.\n",
            "Quando seu modelo foi usado para predizer os resultados da eleição corrente usando dados brutos, Joe Biden apareceu como vencedor com larga vantagem.\n",
            "Parece que, desta vez, os algoritmos estão de fato contribuindo para que as predições sejam mais precisas.\n"
          ]
        }
      ]
    },
    {
      "cell_type": "markdown",
      "metadata": {
        "id": "XMJzltUOA4m0"
      },
      "source": [
        "### TextRankSummarizer"
      ]
    },
    {
      "cell_type": "code",
      "metadata": {
        "colab": {
          "base_uri": "https://localhost:8080/"
        },
        "id": "rudhZjj2A6Tk",
        "outputId": "e7f20c97-7849-4172-9aae-19def1d297a8"
      },
      "source": [
        "parser = PlaintextParser.from_string(artigo_portugues.cleaned_text,Tokenizer('portuguese'))\n",
        "sumarizador = TextRankSummarizer()\n",
        "resumo = sumarizador(parser.document, 5)\n",
        "melhores_sentencas = []\n",
        "for sentenca in resumo:\n",
        "  print(sentenca)"
      ],
      "execution_count": 29,
      "outputs": [
        {
          "output_type": "stream",
          "name": "stdout",
          "text": [
            "Nas eleições presidenciais americanas de 2016, a maioria das predições apontavam para a vitória de Hillary Clinton.\n",
            "O algoritmo fez a análise de cerca de 1 bilhão de tweets para chegar a uma estimativa dos resultados do pleito.\n",
            "O trabalho não depende apenas da coleta dos dados, mas também de um tratamento estatístico adequado para levar em consideração duas variáveis externas: o viés de amostragem e a taxa de comparecimento.\n",
            "A participação em redes sociais costuma ser maior nas cidades grandes, que de fato têm preferência por um dos candidatos, e o modelo deve ser corrigido para levar em consideração também a opinião das pessoas que não são ativas neste ambiente virtual.\n",
            "O segundo fator se deve à não-obrigatoriedade de votação nos Estados Unidos, ou seja, por mais que uma pessoa tenha sua preferência, pode ser que ela não compareça aos locais de votação para efetivá-la.\n"
          ]
        }
      ]
    },
    {
      "cell_type": "markdown",
      "metadata": {
        "id": "Ig58EJDOA_7R"
      },
      "source": [
        "### SumBasicSummarizer"
      ]
    },
    {
      "cell_type": "code",
      "metadata": {
        "colab": {
          "base_uri": "https://localhost:8080/"
        },
        "id": "DYRpWuobBCAO",
        "outputId": "b9c44e5b-0e09-485b-8124-eaf7608875ad"
      },
      "source": [
        "parser = PlaintextParser.from_string(artigo_portugues.cleaned_text,Tokenizer('portuguese'))\n",
        "sumarizador = SumBasicSummarizer()\n",
        "resumo = sumarizador(parser.document, 5)\n",
        "melhores_sentencas = []\n",
        "for sentenca in resumo:\n",
        "  print(sentenca)"
      ],
      "execution_count": 30,
      "outputs": [
        {
          "output_type": "stream",
          "name": "stdout",
          "text": [
            "O algoritmo fez a análise de cerca de 1 bilhão de tweets para chegar a uma estimativa dos resultados do pleito.\n",
            "O Dr. Makse disse que seu trabalho começou já na eleição de 2016, e foi testado novamente nas eleições na Argentina ano passado.\n",
            "A participação em redes sociais costuma ser maior nas cidades grandes, que de fato têm preferência por um dos candidatos, e o modelo deve ser corrigido para levar em consideração também a opinião das pessoas que não são ativas neste ambiente virtual.\n",
            "Quando seu modelo foi usado para predizer os resultados da eleição corrente usando dados brutos, Joe Biden apareceu como vencedor com larga vantagem.\n",
            "Parece que, desta vez, os algoritmos estão de fato contribuindo para que as predições sejam mais precisas.\n"
          ]
        }
      ]
    },
    {
      "cell_type": "markdown",
      "metadata": {
        "id": "T1qBXyhBBGeE"
      },
      "source": [
        "### KLSummarizer"
      ]
    },
    {
      "cell_type": "code",
      "metadata": {
        "colab": {
          "base_uri": "https://localhost:8080/"
        },
        "id": "C1hwMiIvBH6Y",
        "outputId": "8dfddf0c-4681-4b9d-dc28-c6c07c711456"
      },
      "source": [
        "parser = PlaintextParser.from_string(artigo_portugues.cleaned_text,Tokenizer('portuguese'))\n",
        "sumarizador = KLSummarizer()\n",
        "resumo = sumarizador(parser.document, 5)\n",
        "melhores_sentencas = []\n",
        "for sentenca in resumo:\n",
        "  print(sentenca)"
      ],
      "execution_count": 31,
      "outputs": [
        {
          "output_type": "stream",
          "name": "stdout",
          "text": [
            "Entretanto, a história nos mostrou o resultado oposto, e Donald Trump foi o presidente nos últimos 4 anos.\n",
            "O algoritmo fez a análise de cerca de 1 bilhão de tweets para chegar a uma estimativa dos resultados do pleito.\n",
            "No dia da eleição, 3 de novembro, o modelo estava indicando a vitória de Joe Biden.\n",
            "O trabalho não depende apenas da coleta dos dados, mas também de um tratamento estatístico adequado para levar em consideração duas variáveis externas: o viés de amostragem e a taxa de comparecimento.\n",
            "Segundo o Dr. Makse, integrar estas duas variáveis em seu modelo é a parte mais importante do trabalho.\n"
          ]
        }
      ]
    },
    {
      "cell_type": "markdown",
      "metadata": {
        "id": "dnVkeXmwBL6v"
      },
      "source": [
        "### ReductionSummarizer"
      ]
    },
    {
      "cell_type": "code",
      "metadata": {
        "colab": {
          "base_uri": "https://localhost:8080/"
        },
        "id": "0sNXO76YBN_p",
        "outputId": "b3b12696-af8d-44d3-dede-89d6e153cc11"
      },
      "source": [
        "parser = PlaintextParser.from_string(artigo_portugues.cleaned_text,Tokenizer('portuguese'))\n",
        "sumarizador = ReductionSummarizer()\n",
        "resumo = sumarizador(parser.document, 5)\n",
        "melhores_sentencas = []\n",
        "for sentenca in resumo:\n",
        "  print(sentenca)"
      ],
      "execution_count": 32,
      "outputs": [
        {
          "output_type": "stream",
          "name": "stdout",
          "text": [
            "Nas eleições presidenciais americanas de 2016, a maioria das predições apontavam para a vitória de Hillary Clinton.\n",
            "O algoritmo fez a análise de cerca de 1 bilhão de tweets para chegar a uma estimativa dos resultados do pleito.\n",
            "O trabalho não depende apenas da coleta dos dados, mas também de um tratamento estatístico adequado para levar em consideração duas variáveis externas: o viés de amostragem e a taxa de comparecimento.\n",
            "A participação em redes sociais costuma ser maior nas cidades grandes, que de fato têm preferência por um dos candidatos, e o modelo deve ser corrigido para levar em consideração também a opinião das pessoas que não são ativas neste ambiente virtual.\n",
            "O segundo fator se deve à não-obrigatoriedade de votação nos Estados Unidos, ou seja, por mais que uma pessoa tenha sua preferência, pode ser que ela não compareça aos locais de votação para efetivá-la.\n"
          ]
        }
      ]
    }
  ]
}